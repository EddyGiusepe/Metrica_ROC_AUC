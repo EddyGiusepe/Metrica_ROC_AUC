{
  "nbformat": 4,
  "nbformat_minor": 0,
  "metadata": {
    "colab": {
      "name": "ROC_in_Python.ipynb",
      "provenance": [],
      "machine_shape": "hm",
      "authorship_tag": "ABX9TyNqr5Wh6tP4MBLFHAZpMO93",
      "include_colab_link": true
    },
    "kernelspec": {
      "name": "python3",
      "display_name": "Python 3"
    },
    "language_info": {
      "name": "python"
    },
    "accelerator": "TPU"
  },
  "cells": [
    {
      "cell_type": "markdown",
      "metadata": {
        "id": "view-in-github",
        "colab_type": "text"
      },
      "source": [
        "<a href=\"https://colab.research.google.com/github/EddyGiusepe/Metrica_ROC_AUC/blob/main/ROC_in_Python.ipynb\" target=\"_parent\"><img src=\"https://colab.research.google.com/assets/colab-badge.svg\" alt=\"Open In Colab\"/></a>"
      ]
    },
    {
      "cell_type": "markdown",
      "source": [
        "# <h2 align='center'>Avaliando o desempenho de um classificador com a métrica ROC-AUC</h2> \n",
        "\n",
        "\n",
        "**Cientista de Dados Jr.:**  Dr.Eddy Giusepe Chirinos Isidro"
      ],
      "metadata": {
        "id": "8Ix3qIFs6UCG"
      }
    },
    {
      "cell_type": "code",
      "execution_count": 1,
      "metadata": {
        "id": "hmwNhytio_vz"
      },
      "outputs": [],
      "source": [
        "import numpy as np\n",
        "import pandas as pd\n",
        "import matplotlib.pyplot as plt\n",
        "from itertools import cycle\n",
        "\n",
        "from sklearn import svm, datasets\n",
        "from sklearn.metrics import roc_curve, auc\n",
        "from sklearn.model_selection import train_test_split\n",
        "from sklearn.preprocessing import label_binarize\n",
        "from sklearn.multiclass import OneVsRestClassifier\n",
        "from scipy import interp\n",
        "from sklearn.metrics import roc_auc_score\n",
        "\n",
        "# Adiciones duas bibliotecas\n",
        "from sklearn.datasets import make_classification\n",
        "\n",
        "\n",
        "# Link de estudo:\n",
        "# https://scikit-learn.org/stable/auto_examples/model_selection/plot_roc.html\n",
        "# https://www.youtube.com/watch?v=5-XvpQOlesk"
      ]
    },
    {
      "cell_type": "code",
      "source": [
        "# Import some data to play with\n",
        "iris = datasets.load_iris()\n",
        "X = iris.data\n",
        "y = iris.target"
      ],
      "metadata": {
        "id": "jx6VOu7hpPKG"
      },
      "execution_count": 3,
      "outputs": []
    },
    {
      "cell_type": "code",
      "source": [
        "X.shape"
      ],
      "metadata": {
        "colab": {
          "base_uri": "https://localhost:8080/"
        },
        "id": "DsYUN2sLpXwW",
        "outputId": "ea5dd406-fc64-4cf7-d5c3-ef046dc8aa69"
      },
      "execution_count": 4,
      "outputs": [
        {
          "output_type": "execute_result",
          "data": {
            "text/plain": [
              "(150, 4)"
            ]
          },
          "metadata": {},
          "execution_count": 4
        }
      ]
    },
    {
      "cell_type": "code",
      "source": [
        "y.shape"
      ],
      "metadata": {
        "colab": {
          "base_uri": "https://localhost:8080/"
        },
        "id": "LbYJg93QpmRu",
        "outputId": "58789db2-ca45-430e-df09-3683c3e5d461"
      },
      "execution_count": 5,
      "outputs": [
        {
          "output_type": "execute_result",
          "data": {
            "text/plain": [
              "(150,)"
            ]
          },
          "metadata": {},
          "execution_count": 5
        }
      ]
    },
    {
      "cell_type": "code",
      "source": [
        "print(\"shape X = \", np.shape(X))\n",
        "print(\"Dimensions X = \", len(X.shape))"
      ],
      "metadata": {
        "colab": {
          "base_uri": "https://localhost:8080/"
        },
        "id": "ensrugk6pnoe",
        "outputId": "353365af-ddcc-4deb-a13f-a20a4b3bc6bb"
      },
      "execution_count": 6,
      "outputs": [
        {
          "output_type": "stream",
          "name": "stdout",
          "text": [
            "shape X =  (150, 4)\n",
            "Dimensions X =  2\n"
          ]
        }
      ]
    },
    {
      "cell_type": "code",
      "source": [
        "print(\"shape y = \", np.shape(y))\n",
        "print(\"Dimensions y = \", len(y.shape))"
      ],
      "metadata": {
        "colab": {
          "base_uri": "https://localhost:8080/"
        },
        "id": "CVOWb4owrBYz",
        "outputId": "92c45dbe-aa3d-46d0-812a-05a810b5db5b"
      },
      "execution_count": 7,
      "outputs": [
        {
          "output_type": "stream",
          "name": "stdout",
          "text": [
            "shape y =  (150,)\n",
            "Dimensions y =  1\n"
          ]
        }
      ]
    },
    {
      "cell_type": "code",
      "source": [
        "X_df = pd.DataFrame(X)\n",
        "X_df"
      ],
      "metadata": {
        "colab": {
          "base_uri": "https://localhost:8080/",
          "height": 414
        },
        "id": "j_uVSU87WKbW",
        "outputId": "abdad022-35fc-4820-8934-ac1ca60c9a58"
      },
      "execution_count": 8,
      "outputs": [
        {
          "output_type": "execute_result",
          "data": {
            "text/html": [
              "\n",
              "  <div id=\"df-a9945afb-1e8b-4122-8b3e-c81ea8b5b650\">\n",
              "    <div class=\"colab-df-container\">\n",
              "      <div>\n",
              "<style scoped>\n",
              "    .dataframe tbody tr th:only-of-type {\n",
              "        vertical-align: middle;\n",
              "    }\n",
              "\n",
              "    .dataframe tbody tr th {\n",
              "        vertical-align: top;\n",
              "    }\n",
              "\n",
              "    .dataframe thead th {\n",
              "        text-align: right;\n",
              "    }\n",
              "</style>\n",
              "<table border=\"1\" class=\"dataframe\">\n",
              "  <thead>\n",
              "    <tr style=\"text-align: right;\">\n",
              "      <th></th>\n",
              "      <th>0</th>\n",
              "      <th>1</th>\n",
              "      <th>2</th>\n",
              "      <th>3</th>\n",
              "    </tr>\n",
              "  </thead>\n",
              "  <tbody>\n",
              "    <tr>\n",
              "      <th>0</th>\n",
              "      <td>5.1</td>\n",
              "      <td>3.5</td>\n",
              "      <td>1.4</td>\n",
              "      <td>0.2</td>\n",
              "    </tr>\n",
              "    <tr>\n",
              "      <th>1</th>\n",
              "      <td>4.9</td>\n",
              "      <td>3.0</td>\n",
              "      <td>1.4</td>\n",
              "      <td>0.2</td>\n",
              "    </tr>\n",
              "    <tr>\n",
              "      <th>2</th>\n",
              "      <td>4.7</td>\n",
              "      <td>3.2</td>\n",
              "      <td>1.3</td>\n",
              "      <td>0.2</td>\n",
              "    </tr>\n",
              "    <tr>\n",
              "      <th>3</th>\n",
              "      <td>4.6</td>\n",
              "      <td>3.1</td>\n",
              "      <td>1.5</td>\n",
              "      <td>0.2</td>\n",
              "    </tr>\n",
              "    <tr>\n",
              "      <th>4</th>\n",
              "      <td>5.0</td>\n",
              "      <td>3.6</td>\n",
              "      <td>1.4</td>\n",
              "      <td>0.2</td>\n",
              "    </tr>\n",
              "    <tr>\n",
              "      <th>...</th>\n",
              "      <td>...</td>\n",
              "      <td>...</td>\n",
              "      <td>...</td>\n",
              "      <td>...</td>\n",
              "    </tr>\n",
              "    <tr>\n",
              "      <th>145</th>\n",
              "      <td>6.7</td>\n",
              "      <td>3.0</td>\n",
              "      <td>5.2</td>\n",
              "      <td>2.3</td>\n",
              "    </tr>\n",
              "    <tr>\n",
              "      <th>146</th>\n",
              "      <td>6.3</td>\n",
              "      <td>2.5</td>\n",
              "      <td>5.0</td>\n",
              "      <td>1.9</td>\n",
              "    </tr>\n",
              "    <tr>\n",
              "      <th>147</th>\n",
              "      <td>6.5</td>\n",
              "      <td>3.0</td>\n",
              "      <td>5.2</td>\n",
              "      <td>2.0</td>\n",
              "    </tr>\n",
              "    <tr>\n",
              "      <th>148</th>\n",
              "      <td>6.2</td>\n",
              "      <td>3.4</td>\n",
              "      <td>5.4</td>\n",
              "      <td>2.3</td>\n",
              "    </tr>\n",
              "    <tr>\n",
              "      <th>149</th>\n",
              "      <td>5.9</td>\n",
              "      <td>3.0</td>\n",
              "      <td>5.1</td>\n",
              "      <td>1.8</td>\n",
              "    </tr>\n",
              "  </tbody>\n",
              "</table>\n",
              "<p>150 rows × 4 columns</p>\n",
              "</div>\n",
              "      <button class=\"colab-df-convert\" onclick=\"convertToInteractive('df-a9945afb-1e8b-4122-8b3e-c81ea8b5b650')\"\n",
              "              title=\"Convert this dataframe to an interactive table.\"\n",
              "              style=\"display:none;\">\n",
              "        \n",
              "  <svg xmlns=\"http://www.w3.org/2000/svg\" height=\"24px\"viewBox=\"0 0 24 24\"\n",
              "       width=\"24px\">\n",
              "    <path d=\"M0 0h24v24H0V0z\" fill=\"none\"/>\n",
              "    <path d=\"M18.56 5.44l.94 2.06.94-2.06 2.06-.94-2.06-.94-.94-2.06-.94 2.06-2.06.94zm-11 1L8.5 8.5l.94-2.06 2.06-.94-2.06-.94L8.5 2.5l-.94 2.06-2.06.94zm10 10l.94 2.06.94-2.06 2.06-.94-2.06-.94-.94-2.06-.94 2.06-2.06.94z\"/><path d=\"M17.41 7.96l-1.37-1.37c-.4-.4-.92-.59-1.43-.59-.52 0-1.04.2-1.43.59L10.3 9.45l-7.72 7.72c-.78.78-.78 2.05 0 2.83L4 21.41c.39.39.9.59 1.41.59.51 0 1.02-.2 1.41-.59l7.78-7.78 2.81-2.81c.8-.78.8-2.07 0-2.86zM5.41 20L4 18.59l7.72-7.72 1.47 1.35L5.41 20z\"/>\n",
              "  </svg>\n",
              "      </button>\n",
              "      \n",
              "  <style>\n",
              "    .colab-df-container {\n",
              "      display:flex;\n",
              "      flex-wrap:wrap;\n",
              "      gap: 12px;\n",
              "    }\n",
              "\n",
              "    .colab-df-convert {\n",
              "      background-color: #E8F0FE;\n",
              "      border: none;\n",
              "      border-radius: 50%;\n",
              "      cursor: pointer;\n",
              "      display: none;\n",
              "      fill: #1967D2;\n",
              "      height: 32px;\n",
              "      padding: 0 0 0 0;\n",
              "      width: 32px;\n",
              "    }\n",
              "\n",
              "    .colab-df-convert:hover {\n",
              "      background-color: #E2EBFA;\n",
              "      box-shadow: 0px 1px 2px rgba(60, 64, 67, 0.3), 0px 1px 3px 1px rgba(60, 64, 67, 0.15);\n",
              "      fill: #174EA6;\n",
              "    }\n",
              "\n",
              "    [theme=dark] .colab-df-convert {\n",
              "      background-color: #3B4455;\n",
              "      fill: #D2E3FC;\n",
              "    }\n",
              "\n",
              "    [theme=dark] .colab-df-convert:hover {\n",
              "      background-color: #434B5C;\n",
              "      box-shadow: 0px 1px 3px 1px rgba(0, 0, 0, 0.15);\n",
              "      filter: drop-shadow(0px 1px 2px rgba(0, 0, 0, 0.3));\n",
              "      fill: #FFFFFF;\n",
              "    }\n",
              "  </style>\n",
              "\n",
              "      <script>\n",
              "        const buttonEl =\n",
              "          document.querySelector('#df-a9945afb-1e8b-4122-8b3e-c81ea8b5b650 button.colab-df-convert');\n",
              "        buttonEl.style.display =\n",
              "          google.colab.kernel.accessAllowed ? 'block' : 'none';\n",
              "\n",
              "        async function convertToInteractive(key) {\n",
              "          const element = document.querySelector('#df-a9945afb-1e8b-4122-8b3e-c81ea8b5b650');\n",
              "          const dataTable =\n",
              "            await google.colab.kernel.invokeFunction('convertToInteractive',\n",
              "                                                     [key], {});\n",
              "          if (!dataTable) return;\n",
              "\n",
              "          const docLinkHtml = 'Like what you see? Visit the ' +\n",
              "            '<a target=\"_blank\" href=https://colab.research.google.com/notebooks/data_table.ipynb>data table notebook</a>'\n",
              "            + ' to learn more about interactive tables.';\n",
              "          element.innerHTML = '';\n",
              "          dataTable['output_type'] = 'display_data';\n",
              "          await google.colab.output.renderOutput(dataTable, element);\n",
              "          const docLink = document.createElement('div');\n",
              "          docLink.innerHTML = docLinkHtml;\n",
              "          element.appendChild(docLink);\n",
              "        }\n",
              "      </script>\n",
              "    </div>\n",
              "  </div>\n",
              "  "
            ],
            "text/plain": [
              "       0    1    2    3\n",
              "0    5.1  3.5  1.4  0.2\n",
              "1    4.9  3.0  1.4  0.2\n",
              "2    4.7  3.2  1.3  0.2\n",
              "3    4.6  3.1  1.5  0.2\n",
              "4    5.0  3.6  1.4  0.2\n",
              "..   ...  ...  ...  ...\n",
              "145  6.7  3.0  5.2  2.3\n",
              "146  6.3  2.5  5.0  1.9\n",
              "147  6.5  3.0  5.2  2.0\n",
              "148  6.2  3.4  5.4  2.3\n",
              "149  5.9  3.0  5.1  1.8\n",
              "\n",
              "[150 rows x 4 columns]"
            ]
          },
          "metadata": {},
          "execution_count": 8
        }
      ]
    },
    {
      "cell_type": "code",
      "source": [
        "X_df.info()"
      ],
      "metadata": {
        "colab": {
          "base_uri": "https://localhost:8080/"
        },
        "id": "GjDgeLV1W6zq",
        "outputId": "2c10d73d-a6a8-4638-87a5-48a7fcde1a59"
      },
      "execution_count": 9,
      "outputs": [
        {
          "output_type": "stream",
          "name": "stdout",
          "text": [
            "<class 'pandas.core.frame.DataFrame'>\n",
            "RangeIndex: 150 entries, 0 to 149\n",
            "Data columns (total 4 columns):\n",
            " #   Column  Non-Null Count  Dtype  \n",
            "---  ------  --------------  -----  \n",
            " 0   0       150 non-null    float64\n",
            " 1   1       150 non-null    float64\n",
            " 2   2       150 non-null    float64\n",
            " 3   3       150 non-null    float64\n",
            "dtypes: float64(4)\n",
            "memory usage: 4.8 KB\n"
          ]
        }
      ]
    },
    {
      "cell_type": "code",
      "source": [
        "y_df = pd.DataFrame(y)\n",
        "y_df.sample(15)"
      ],
      "metadata": {
        "colab": {
          "base_uri": "https://localhost:8080/",
          "height": 508
        },
        "id": "hI6qbl4GWR_i",
        "outputId": "3fa84efb-f2bf-4820-f208-f538766c7329"
      },
      "execution_count": 10,
      "outputs": [
        {
          "output_type": "execute_result",
          "data": {
            "text/html": [
              "\n",
              "  <div id=\"df-a215dfb4-f8eb-4bc1-ab91-c927ae14824f\">\n",
              "    <div class=\"colab-df-container\">\n",
              "      <div>\n",
              "<style scoped>\n",
              "    .dataframe tbody tr th:only-of-type {\n",
              "        vertical-align: middle;\n",
              "    }\n",
              "\n",
              "    .dataframe tbody tr th {\n",
              "        vertical-align: top;\n",
              "    }\n",
              "\n",
              "    .dataframe thead th {\n",
              "        text-align: right;\n",
              "    }\n",
              "</style>\n",
              "<table border=\"1\" class=\"dataframe\">\n",
              "  <thead>\n",
              "    <tr style=\"text-align: right;\">\n",
              "      <th></th>\n",
              "      <th>0</th>\n",
              "    </tr>\n",
              "  </thead>\n",
              "  <tbody>\n",
              "    <tr>\n",
              "      <th>112</th>\n",
              "      <td>2</td>\n",
              "    </tr>\n",
              "    <tr>\n",
              "      <th>35</th>\n",
              "      <td>0</td>\n",
              "    </tr>\n",
              "    <tr>\n",
              "      <th>116</th>\n",
              "      <td>2</td>\n",
              "    </tr>\n",
              "    <tr>\n",
              "      <th>25</th>\n",
              "      <td>0</td>\n",
              "    </tr>\n",
              "    <tr>\n",
              "      <th>70</th>\n",
              "      <td>1</td>\n",
              "    </tr>\n",
              "    <tr>\n",
              "      <th>88</th>\n",
              "      <td>1</td>\n",
              "    </tr>\n",
              "    <tr>\n",
              "      <th>101</th>\n",
              "      <td>2</td>\n",
              "    </tr>\n",
              "    <tr>\n",
              "      <th>89</th>\n",
              "      <td>1</td>\n",
              "    </tr>\n",
              "    <tr>\n",
              "      <th>17</th>\n",
              "      <td>0</td>\n",
              "    </tr>\n",
              "    <tr>\n",
              "      <th>129</th>\n",
              "      <td>2</td>\n",
              "    </tr>\n",
              "    <tr>\n",
              "      <th>55</th>\n",
              "      <td>1</td>\n",
              "    </tr>\n",
              "    <tr>\n",
              "      <th>45</th>\n",
              "      <td>0</td>\n",
              "    </tr>\n",
              "    <tr>\n",
              "      <th>21</th>\n",
              "      <td>0</td>\n",
              "    </tr>\n",
              "    <tr>\n",
              "      <th>117</th>\n",
              "      <td>2</td>\n",
              "    </tr>\n",
              "    <tr>\n",
              "      <th>62</th>\n",
              "      <td>1</td>\n",
              "    </tr>\n",
              "  </tbody>\n",
              "</table>\n",
              "</div>\n",
              "      <button class=\"colab-df-convert\" onclick=\"convertToInteractive('df-a215dfb4-f8eb-4bc1-ab91-c927ae14824f')\"\n",
              "              title=\"Convert this dataframe to an interactive table.\"\n",
              "              style=\"display:none;\">\n",
              "        \n",
              "  <svg xmlns=\"http://www.w3.org/2000/svg\" height=\"24px\"viewBox=\"0 0 24 24\"\n",
              "       width=\"24px\">\n",
              "    <path d=\"M0 0h24v24H0V0z\" fill=\"none\"/>\n",
              "    <path d=\"M18.56 5.44l.94 2.06.94-2.06 2.06-.94-2.06-.94-.94-2.06-.94 2.06-2.06.94zm-11 1L8.5 8.5l.94-2.06 2.06-.94-2.06-.94L8.5 2.5l-.94 2.06-2.06.94zm10 10l.94 2.06.94-2.06 2.06-.94-2.06-.94-.94-2.06-.94 2.06-2.06.94z\"/><path d=\"M17.41 7.96l-1.37-1.37c-.4-.4-.92-.59-1.43-.59-.52 0-1.04.2-1.43.59L10.3 9.45l-7.72 7.72c-.78.78-.78 2.05 0 2.83L4 21.41c.39.39.9.59 1.41.59.51 0 1.02-.2 1.41-.59l7.78-7.78 2.81-2.81c.8-.78.8-2.07 0-2.86zM5.41 20L4 18.59l7.72-7.72 1.47 1.35L5.41 20z\"/>\n",
              "  </svg>\n",
              "      </button>\n",
              "      \n",
              "  <style>\n",
              "    .colab-df-container {\n",
              "      display:flex;\n",
              "      flex-wrap:wrap;\n",
              "      gap: 12px;\n",
              "    }\n",
              "\n",
              "    .colab-df-convert {\n",
              "      background-color: #E8F0FE;\n",
              "      border: none;\n",
              "      border-radius: 50%;\n",
              "      cursor: pointer;\n",
              "      display: none;\n",
              "      fill: #1967D2;\n",
              "      height: 32px;\n",
              "      padding: 0 0 0 0;\n",
              "      width: 32px;\n",
              "    }\n",
              "\n",
              "    .colab-df-convert:hover {\n",
              "      background-color: #E2EBFA;\n",
              "      box-shadow: 0px 1px 2px rgba(60, 64, 67, 0.3), 0px 1px 3px 1px rgba(60, 64, 67, 0.15);\n",
              "      fill: #174EA6;\n",
              "    }\n",
              "\n",
              "    [theme=dark] .colab-df-convert {\n",
              "      background-color: #3B4455;\n",
              "      fill: #D2E3FC;\n",
              "    }\n",
              "\n",
              "    [theme=dark] .colab-df-convert:hover {\n",
              "      background-color: #434B5C;\n",
              "      box-shadow: 0px 1px 3px 1px rgba(0, 0, 0, 0.15);\n",
              "      filter: drop-shadow(0px 1px 2px rgba(0, 0, 0, 0.3));\n",
              "      fill: #FFFFFF;\n",
              "    }\n",
              "  </style>\n",
              "\n",
              "      <script>\n",
              "        const buttonEl =\n",
              "          document.querySelector('#df-a215dfb4-f8eb-4bc1-ab91-c927ae14824f button.colab-df-convert');\n",
              "        buttonEl.style.display =\n",
              "          google.colab.kernel.accessAllowed ? 'block' : 'none';\n",
              "\n",
              "        async function convertToInteractive(key) {\n",
              "          const element = document.querySelector('#df-a215dfb4-f8eb-4bc1-ab91-c927ae14824f');\n",
              "          const dataTable =\n",
              "            await google.colab.kernel.invokeFunction('convertToInteractive',\n",
              "                                                     [key], {});\n",
              "          if (!dataTable) return;\n",
              "\n",
              "          const docLinkHtml = 'Like what you see? Visit the ' +\n",
              "            '<a target=\"_blank\" href=https://colab.research.google.com/notebooks/data_table.ipynb>data table notebook</a>'\n",
              "            + ' to learn more about interactive tables.';\n",
              "          element.innerHTML = '';\n",
              "          dataTable['output_type'] = 'display_data';\n",
              "          await google.colab.output.renderOutput(dataTable, element);\n",
              "          const docLink = document.createElement('div');\n",
              "          docLink.innerHTML = docLinkHtml;\n",
              "          element.appendChild(docLink);\n",
              "        }\n",
              "      </script>\n",
              "    </div>\n",
              "  </div>\n",
              "  "
            ],
            "text/plain": [
              "     0\n",
              "112  2\n",
              "35   0\n",
              "116  2\n",
              "25   0\n",
              "70   1\n",
              "88   1\n",
              "101  2\n",
              "89   1\n",
              "17   0\n",
              "129  2\n",
              "55   1\n",
              "45   0\n",
              "21   0\n",
              "117  2\n",
              "62   1"
            ]
          },
          "metadata": {},
          "execution_count": 10
        }
      ]
    },
    {
      "cell_type": "code",
      "source": [
        "y_df.info()"
      ],
      "metadata": {
        "colab": {
          "base_uri": "https://localhost:8080/"
        },
        "id": "q8RnsPpEXX-7",
        "outputId": "f55ef766-3684-474d-c684-f4f36a66b072"
      },
      "execution_count": 11,
      "outputs": [
        {
          "output_type": "stream",
          "name": "stdout",
          "text": [
            "<class 'pandas.core.frame.DataFrame'>\n",
            "RangeIndex: 150 entries, 0 to 149\n",
            "Data columns (total 1 columns):\n",
            " #   Column  Non-Null Count  Dtype\n",
            "---  ------  --------------  -----\n",
            " 0   0       150 non-null    int64\n",
            "dtypes: int64(1)\n",
            "memory usage: 1.3 KB\n"
          ]
        }
      ]
    },
    {
      "cell_type": "code",
      "source": [
        "y_df[0].unique() # 0 --> É o nome da coluna. "
      ],
      "metadata": {
        "colab": {
          "base_uri": "https://localhost:8080/"
        },
        "id": "h9BgOi3uY8lb",
        "outputId": "bca7a4c9-7669-4bb5-c478-3e1142f7532b"
      },
      "execution_count": 12,
      "outputs": [
        {
          "output_type": "execute_result",
          "data": {
            "text/plain": [
              "array([0, 1, 2])"
            ]
          },
          "metadata": {},
          "execution_count": 12
        }
      ]
    },
    {
      "cell_type": "code",
      "source": [
        "# Binarize the output\n",
        "y = label_binarize(y, classes=[0, 1, 2])\n",
        "n_classes = y.shape[1]"
      ],
      "metadata": {
        "id": "bkpcMhLkppwe"
      },
      "execution_count": 13,
      "outputs": []
    },
    {
      "cell_type": "code",
      "source": [
        "y.shape"
      ],
      "metadata": {
        "colab": {
          "base_uri": "https://localhost:8080/"
        },
        "id": "gQeQiaDvqNes",
        "outputId": "efc60065-4375-4869-aa11-905c060ed0b3"
      },
      "execution_count": 14,
      "outputs": [
        {
          "output_type": "execute_result",
          "data": {
            "text/plain": [
              "(150, 3)"
            ]
          },
          "metadata": {},
          "execution_count": 14
        }
      ]
    },
    {
      "cell_type": "code",
      "source": [
        "n_classes"
      ],
      "metadata": {
        "colab": {
          "base_uri": "https://localhost:8080/"
        },
        "id": "j4zQ78PVq2oN",
        "outputId": "ac5ad6b6-49d6-471c-a7c9-05df86962334"
      },
      "execution_count": 15,
      "outputs": [
        {
          "output_type": "execute_result",
          "data": {
            "text/plain": [
              "3"
            ]
          },
          "metadata": {},
          "execution_count": 15
        }
      ]
    },
    {
      "cell_type": "code",
      "source": [
        "y_new = pd.DataFrame(y)\n",
        "y_new "
      ],
      "metadata": {
        "colab": {
          "base_uri": "https://localhost:8080/",
          "height": 414
        },
        "id": "NHpakp83ZnQM",
        "outputId": "ec77b87f-e0eb-4486-f18b-66e358db2c2b"
      },
      "execution_count": 16,
      "outputs": [
        {
          "output_type": "execute_result",
          "data": {
            "text/html": [
              "\n",
              "  <div id=\"df-726b39fa-ca55-40ed-bd3c-4395bbf2f810\">\n",
              "    <div class=\"colab-df-container\">\n",
              "      <div>\n",
              "<style scoped>\n",
              "    .dataframe tbody tr th:only-of-type {\n",
              "        vertical-align: middle;\n",
              "    }\n",
              "\n",
              "    .dataframe tbody tr th {\n",
              "        vertical-align: top;\n",
              "    }\n",
              "\n",
              "    .dataframe thead th {\n",
              "        text-align: right;\n",
              "    }\n",
              "</style>\n",
              "<table border=\"1\" class=\"dataframe\">\n",
              "  <thead>\n",
              "    <tr style=\"text-align: right;\">\n",
              "      <th></th>\n",
              "      <th>0</th>\n",
              "      <th>1</th>\n",
              "      <th>2</th>\n",
              "    </tr>\n",
              "  </thead>\n",
              "  <tbody>\n",
              "    <tr>\n",
              "      <th>0</th>\n",
              "      <td>1</td>\n",
              "      <td>0</td>\n",
              "      <td>0</td>\n",
              "    </tr>\n",
              "    <tr>\n",
              "      <th>1</th>\n",
              "      <td>1</td>\n",
              "      <td>0</td>\n",
              "      <td>0</td>\n",
              "    </tr>\n",
              "    <tr>\n",
              "      <th>2</th>\n",
              "      <td>1</td>\n",
              "      <td>0</td>\n",
              "      <td>0</td>\n",
              "    </tr>\n",
              "    <tr>\n",
              "      <th>3</th>\n",
              "      <td>1</td>\n",
              "      <td>0</td>\n",
              "      <td>0</td>\n",
              "    </tr>\n",
              "    <tr>\n",
              "      <th>4</th>\n",
              "      <td>1</td>\n",
              "      <td>0</td>\n",
              "      <td>0</td>\n",
              "    </tr>\n",
              "    <tr>\n",
              "      <th>...</th>\n",
              "      <td>...</td>\n",
              "      <td>...</td>\n",
              "      <td>...</td>\n",
              "    </tr>\n",
              "    <tr>\n",
              "      <th>145</th>\n",
              "      <td>0</td>\n",
              "      <td>0</td>\n",
              "      <td>1</td>\n",
              "    </tr>\n",
              "    <tr>\n",
              "      <th>146</th>\n",
              "      <td>0</td>\n",
              "      <td>0</td>\n",
              "      <td>1</td>\n",
              "    </tr>\n",
              "    <tr>\n",
              "      <th>147</th>\n",
              "      <td>0</td>\n",
              "      <td>0</td>\n",
              "      <td>1</td>\n",
              "    </tr>\n",
              "    <tr>\n",
              "      <th>148</th>\n",
              "      <td>0</td>\n",
              "      <td>0</td>\n",
              "      <td>1</td>\n",
              "    </tr>\n",
              "    <tr>\n",
              "      <th>149</th>\n",
              "      <td>0</td>\n",
              "      <td>0</td>\n",
              "      <td>1</td>\n",
              "    </tr>\n",
              "  </tbody>\n",
              "</table>\n",
              "<p>150 rows × 3 columns</p>\n",
              "</div>\n",
              "      <button class=\"colab-df-convert\" onclick=\"convertToInteractive('df-726b39fa-ca55-40ed-bd3c-4395bbf2f810')\"\n",
              "              title=\"Convert this dataframe to an interactive table.\"\n",
              "              style=\"display:none;\">\n",
              "        \n",
              "  <svg xmlns=\"http://www.w3.org/2000/svg\" height=\"24px\"viewBox=\"0 0 24 24\"\n",
              "       width=\"24px\">\n",
              "    <path d=\"M0 0h24v24H0V0z\" fill=\"none\"/>\n",
              "    <path d=\"M18.56 5.44l.94 2.06.94-2.06 2.06-.94-2.06-.94-.94-2.06-.94 2.06-2.06.94zm-11 1L8.5 8.5l.94-2.06 2.06-.94-2.06-.94L8.5 2.5l-.94 2.06-2.06.94zm10 10l.94 2.06.94-2.06 2.06-.94-2.06-.94-.94-2.06-.94 2.06-2.06.94z\"/><path d=\"M17.41 7.96l-1.37-1.37c-.4-.4-.92-.59-1.43-.59-.52 0-1.04.2-1.43.59L10.3 9.45l-7.72 7.72c-.78.78-.78 2.05 0 2.83L4 21.41c.39.39.9.59 1.41.59.51 0 1.02-.2 1.41-.59l7.78-7.78 2.81-2.81c.8-.78.8-2.07 0-2.86zM5.41 20L4 18.59l7.72-7.72 1.47 1.35L5.41 20z\"/>\n",
              "  </svg>\n",
              "      </button>\n",
              "      \n",
              "  <style>\n",
              "    .colab-df-container {\n",
              "      display:flex;\n",
              "      flex-wrap:wrap;\n",
              "      gap: 12px;\n",
              "    }\n",
              "\n",
              "    .colab-df-convert {\n",
              "      background-color: #E8F0FE;\n",
              "      border: none;\n",
              "      border-radius: 50%;\n",
              "      cursor: pointer;\n",
              "      display: none;\n",
              "      fill: #1967D2;\n",
              "      height: 32px;\n",
              "      padding: 0 0 0 0;\n",
              "      width: 32px;\n",
              "    }\n",
              "\n",
              "    .colab-df-convert:hover {\n",
              "      background-color: #E2EBFA;\n",
              "      box-shadow: 0px 1px 2px rgba(60, 64, 67, 0.3), 0px 1px 3px 1px rgba(60, 64, 67, 0.15);\n",
              "      fill: #174EA6;\n",
              "    }\n",
              "\n",
              "    [theme=dark] .colab-df-convert {\n",
              "      background-color: #3B4455;\n",
              "      fill: #D2E3FC;\n",
              "    }\n",
              "\n",
              "    [theme=dark] .colab-df-convert:hover {\n",
              "      background-color: #434B5C;\n",
              "      box-shadow: 0px 1px 3px 1px rgba(0, 0, 0, 0.15);\n",
              "      filter: drop-shadow(0px 1px 2px rgba(0, 0, 0, 0.3));\n",
              "      fill: #FFFFFF;\n",
              "    }\n",
              "  </style>\n",
              "\n",
              "      <script>\n",
              "        const buttonEl =\n",
              "          document.querySelector('#df-726b39fa-ca55-40ed-bd3c-4395bbf2f810 button.colab-df-convert');\n",
              "        buttonEl.style.display =\n",
              "          google.colab.kernel.accessAllowed ? 'block' : 'none';\n",
              "\n",
              "        async function convertToInteractive(key) {\n",
              "          const element = document.querySelector('#df-726b39fa-ca55-40ed-bd3c-4395bbf2f810');\n",
              "          const dataTable =\n",
              "            await google.colab.kernel.invokeFunction('convertToInteractive',\n",
              "                                                     [key], {});\n",
              "          if (!dataTable) return;\n",
              "\n",
              "          const docLinkHtml = 'Like what you see? Visit the ' +\n",
              "            '<a target=\"_blank\" href=https://colab.research.google.com/notebooks/data_table.ipynb>data table notebook</a>'\n",
              "            + ' to learn more about interactive tables.';\n",
              "          element.innerHTML = '';\n",
              "          dataTable['output_type'] = 'display_data';\n",
              "          await google.colab.output.renderOutput(dataTable, element);\n",
              "          const docLink = document.createElement('div');\n",
              "          docLink.innerHTML = docLinkHtml;\n",
              "          element.appendChild(docLink);\n",
              "        }\n",
              "      </script>\n",
              "    </div>\n",
              "  </div>\n",
              "  "
            ],
            "text/plain": [
              "     0  1  2\n",
              "0    1  0  0\n",
              "1    1  0  0\n",
              "2    1  0  0\n",
              "3    1  0  0\n",
              "4    1  0  0\n",
              "..  .. .. ..\n",
              "145  0  0  1\n",
              "146  0  0  1\n",
              "147  0  0  1\n",
              "148  0  0  1\n",
              "149  0  0  1\n",
              "\n",
              "[150 rows x 3 columns]"
            ]
          },
          "metadata": {},
          "execution_count": 16
        }
      ]
    },
    {
      "cell_type": "code",
      "source": [
        "# Adicione recursos barulhentos para tornar o problema mais difícil\n",
        "\n",
        "random_state = np.random.RandomState(0)\n",
        "n_samples, n_features = X.shape\n",
        "X = np.c_[X, random_state.randn(n_samples, 200 * n_features)]"
      ],
      "metadata": {
        "id": "Tjs8LKCPrbWN"
      },
      "execution_count": 21,
      "outputs": []
    },
    {
      "cell_type": "code",
      "source": [
        "X.shape"
      ],
      "metadata": {
        "colab": {
          "base_uri": "https://localhost:8080/"
        },
        "id": "pjp-JbR0Z2aC",
        "outputId": "d23c39ad-42da-41d2-937e-3e94839a2ce2"
      },
      "execution_count": 22,
      "outputs": [
        {
          "output_type": "execute_result",
          "data": {
            "text/plain": [
              "(150, 804)"
            ]
          },
          "metadata": {},
          "execution_count": 22
        }
      ]
    },
    {
      "cell_type": "code",
      "source": [
        "X_new = pd.DataFrame(X)\n",
        "X_new"
      ],
      "metadata": {
        "colab": {
          "base_uri": "https://localhost:8080/",
          "height": 478
        },
        "id": "pi3mWXtoaUyT",
        "outputId": "b7895db5-fd7a-43ad-d1b3-b3b86ad827fb"
      },
      "execution_count": 25,
      "outputs": [
        {
          "output_type": "execute_result",
          "data": {
            "text/html": [
              "\n",
              "  <div id=\"df-99742a06-8e4e-47ed-8e6b-4a9b0a7e2854\">\n",
              "    <div class=\"colab-df-container\">\n",
              "      <div>\n",
              "<style scoped>\n",
              "    .dataframe tbody tr th:only-of-type {\n",
              "        vertical-align: middle;\n",
              "    }\n",
              "\n",
              "    .dataframe tbody tr th {\n",
              "        vertical-align: top;\n",
              "    }\n",
              "\n",
              "    .dataframe thead th {\n",
              "        text-align: right;\n",
              "    }\n",
              "</style>\n",
              "<table border=\"1\" class=\"dataframe\">\n",
              "  <thead>\n",
              "    <tr style=\"text-align: right;\">\n",
              "      <th></th>\n",
              "      <th>0</th>\n",
              "      <th>1</th>\n",
              "      <th>2</th>\n",
              "      <th>3</th>\n",
              "      <th>4</th>\n",
              "      <th>5</th>\n",
              "      <th>6</th>\n",
              "      <th>7</th>\n",
              "      <th>8</th>\n",
              "      <th>9</th>\n",
              "      <th>10</th>\n",
              "      <th>11</th>\n",
              "      <th>12</th>\n",
              "      <th>13</th>\n",
              "      <th>14</th>\n",
              "      <th>15</th>\n",
              "      <th>16</th>\n",
              "      <th>17</th>\n",
              "      <th>18</th>\n",
              "      <th>19</th>\n",
              "      <th>20</th>\n",
              "      <th>21</th>\n",
              "      <th>22</th>\n",
              "      <th>23</th>\n",
              "      <th>24</th>\n",
              "      <th>25</th>\n",
              "      <th>26</th>\n",
              "      <th>27</th>\n",
              "      <th>28</th>\n",
              "      <th>29</th>\n",
              "      <th>30</th>\n",
              "      <th>31</th>\n",
              "      <th>32</th>\n",
              "      <th>33</th>\n",
              "      <th>34</th>\n",
              "      <th>35</th>\n",
              "      <th>36</th>\n",
              "      <th>37</th>\n",
              "      <th>38</th>\n",
              "      <th>39</th>\n",
              "      <th>...</th>\n",
              "      <th>764</th>\n",
              "      <th>765</th>\n",
              "      <th>766</th>\n",
              "      <th>767</th>\n",
              "      <th>768</th>\n",
              "      <th>769</th>\n",
              "      <th>770</th>\n",
              "      <th>771</th>\n",
              "      <th>772</th>\n",
              "      <th>773</th>\n",
              "      <th>774</th>\n",
              "      <th>775</th>\n",
              "      <th>776</th>\n",
              "      <th>777</th>\n",
              "      <th>778</th>\n",
              "      <th>779</th>\n",
              "      <th>780</th>\n",
              "      <th>781</th>\n",
              "      <th>782</th>\n",
              "      <th>783</th>\n",
              "      <th>784</th>\n",
              "      <th>785</th>\n",
              "      <th>786</th>\n",
              "      <th>787</th>\n",
              "      <th>788</th>\n",
              "      <th>789</th>\n",
              "      <th>790</th>\n",
              "      <th>791</th>\n",
              "      <th>792</th>\n",
              "      <th>793</th>\n",
              "      <th>794</th>\n",
              "      <th>795</th>\n",
              "      <th>796</th>\n",
              "      <th>797</th>\n",
              "      <th>798</th>\n",
              "      <th>799</th>\n",
              "      <th>800</th>\n",
              "      <th>801</th>\n",
              "      <th>802</th>\n",
              "      <th>803</th>\n",
              "    </tr>\n",
              "  </thead>\n",
              "  <tbody>\n",
              "    <tr>\n",
              "      <th>0</th>\n",
              "      <td>5.1</td>\n",
              "      <td>3.5</td>\n",
              "      <td>1.4</td>\n",
              "      <td>0.2</td>\n",
              "      <td>1.764052</td>\n",
              "      <td>0.400157</td>\n",
              "      <td>0.978738</td>\n",
              "      <td>2.240893</td>\n",
              "      <td>1.867558</td>\n",
              "      <td>-0.977278</td>\n",
              "      <td>0.950088</td>\n",
              "      <td>-0.151357</td>\n",
              "      <td>-0.103219</td>\n",
              "      <td>0.410599</td>\n",
              "      <td>0.144044</td>\n",
              "      <td>1.454274</td>\n",
              "      <td>0.761038</td>\n",
              "      <td>0.121675</td>\n",
              "      <td>0.443863</td>\n",
              "      <td>0.333674</td>\n",
              "      <td>1.494079</td>\n",
              "      <td>-0.205158</td>\n",
              "      <td>0.313068</td>\n",
              "      <td>-0.854096</td>\n",
              "      <td>-2.552990</td>\n",
              "      <td>0.653619</td>\n",
              "      <td>0.864436</td>\n",
              "      <td>-0.742165</td>\n",
              "      <td>2.269755</td>\n",
              "      <td>-1.454366</td>\n",
              "      <td>0.045759</td>\n",
              "      <td>-0.187184</td>\n",
              "      <td>1.532779</td>\n",
              "      <td>1.469359</td>\n",
              "      <td>0.154947</td>\n",
              "      <td>0.378163</td>\n",
              "      <td>-0.887786</td>\n",
              "      <td>-1.980796</td>\n",
              "      <td>-0.347912</td>\n",
              "      <td>0.156349</td>\n",
              "      <td>...</td>\n",
              "      <td>-0.451303</td>\n",
              "      <td>0.265688</td>\n",
              "      <td>0.723100</td>\n",
              "      <td>0.024612</td>\n",
              "      <td>0.719984</td>\n",
              "      <td>-1.102906</td>\n",
              "      <td>-0.101697</td>\n",
              "      <td>0.019279</td>\n",
              "      <td>1.849591</td>\n",
              "      <td>-0.214167</td>\n",
              "      <td>-0.499017</td>\n",
              "      <td>0.021351</td>\n",
              "      <td>-0.919113</td>\n",
              "      <td>0.192754</td>\n",
              "      <td>-0.365055</td>\n",
              "      <td>-1.791328</td>\n",
              "      <td>-0.058587</td>\n",
              "      <td>-0.317543</td>\n",
              "      <td>-1.632423</td>\n",
              "      <td>-0.067134</td>\n",
              "      <td>1.489356</td>\n",
              "      <td>0.521304</td>\n",
              "      <td>0.611927</td>\n",
              "      <td>-1.341497</td>\n",
              "      <td>0.476898</td>\n",
              "      <td>0.148450</td>\n",
              "      <td>0.529045</td>\n",
              "      <td>0.422629</td>\n",
              "      <td>-1.359781</td>\n",
              "      <td>-0.041401</td>\n",
              "      <td>-0.757871</td>\n",
              "      <td>-0.050084</td>\n",
              "      <td>-0.897401</td>\n",
              "      <td>1.312470</td>\n",
              "      <td>-0.858972</td>\n",
              "      <td>-0.898942</td>\n",
              "      <td>0.074586</td>\n",
              "      <td>-1.077099</td>\n",
              "      <td>-0.424663</td>\n",
              "      <td>-0.829965</td>\n",
              "    </tr>\n",
              "    <tr>\n",
              "      <th>1</th>\n",
              "      <td>4.9</td>\n",
              "      <td>3.0</td>\n",
              "      <td>1.4</td>\n",
              "      <td>0.2</td>\n",
              "      <td>1.411172</td>\n",
              "      <td>0.785804</td>\n",
              "      <td>-0.057470</td>\n",
              "      <td>-0.391217</td>\n",
              "      <td>0.940918</td>\n",
              "      <td>0.405204</td>\n",
              "      <td>0.498052</td>\n",
              "      <td>-0.026192</td>\n",
              "      <td>-1.688230</td>\n",
              "      <td>-0.112466</td>\n",
              "      <td>-0.532490</td>\n",
              "      <td>0.645055</td>\n",
              "      <td>1.011842</td>\n",
              "      <td>-0.657951</td>\n",
              "      <td>0.468385</td>\n",
              "      <td>1.735879</td>\n",
              "      <td>-0.667713</td>\n",
              "      <td>1.681922</td>\n",
              "      <td>-0.852586</td>\n",
              "      <td>0.022960</td>\n",
              "      <td>-0.011146</td>\n",
              "      <td>0.011499</td>\n",
              "      <td>-0.837678</td>\n",
              "      <td>-0.591183</td>\n",
              "      <td>-0.667720</td>\n",
              "      <td>0.326963</td>\n",
              "      <td>0.330035</td>\n",
              "      <td>2.225944</td>\n",
              "      <td>1.370989</td>\n",
              "      <td>-0.509843</td>\n",
              "      <td>0.324870</td>\n",
              "      <td>0.997118</td>\n",
              "      <td>0.030602</td>\n",
              "      <td>-0.069642</td>\n",
              "      <td>0.051575</td>\n",
              "      <td>0.867277</td>\n",
              "      <td>...</td>\n",
              "      <td>1.587762</td>\n",
              "      <td>-0.643258</td>\n",
              "      <td>-1.133593</td>\n",
              "      <td>0.996760</td>\n",
              "      <td>-0.148766</td>\n",
              "      <td>0.096004</td>\n",
              "      <td>-0.045113</td>\n",
              "      <td>0.079122</td>\n",
              "      <td>0.850531</td>\n",
              "      <td>-0.839124</td>\n",
              "      <td>-1.011774</td>\n",
              "      <td>0.084968</td>\n",
              "      <td>-1.606440</td>\n",
              "      <td>-1.373054</td>\n",
              "      <td>1.866683</td>\n",
              "      <td>0.757468</td>\n",
              "      <td>-0.010056</td>\n",
              "      <td>1.238007</td>\n",
              "      <td>-1.040599</td>\n",
              "      <td>-0.315603</td>\n",
              "      <td>0.623454</td>\n",
              "      <td>0.890672</td>\n",
              "      <td>0.512917</td>\n",
              "      <td>-2.541239</td>\n",
              "      <td>-0.968082</td>\n",
              "      <td>0.477068</td>\n",
              "      <td>-0.355951</td>\n",
              "      <td>2.540232</td>\n",
              "      <td>0.926558</td>\n",
              "      <td>0.558082</td>\n",
              "      <td>-1.116950</td>\n",
              "      <td>-0.035297</td>\n",
              "      <td>0.241204</td>\n",
              "      <td>1.127784</td>\n",
              "      <td>0.881131</td>\n",
              "      <td>1.032989</td>\n",
              "      <td>-0.923912</td>\n",
              "      <td>1.412152</td>\n",
              "      <td>-1.380431</td>\n",
              "      <td>-0.535915</td>\n",
              "    </tr>\n",
              "    <tr>\n",
              "      <th>2</th>\n",
              "      <td>4.7</td>\n",
              "      <td>3.2</td>\n",
              "      <td>1.3</td>\n",
              "      <td>0.2</td>\n",
              "      <td>0.430771</td>\n",
              "      <td>-0.149892</td>\n",
              "      <td>-1.006037</td>\n",
              "      <td>-0.821550</td>\n",
              "      <td>-1.548254</td>\n",
              "      <td>0.531975</td>\n",
              "      <td>1.260569</td>\n",
              "      <td>-0.100394</td>\n",
              "      <td>-0.400349</td>\n",
              "      <td>-1.472323</td>\n",
              "      <td>0.913202</td>\n",
              "      <td>2.211304</td>\n",
              "      <td>-1.797456</td>\n",
              "      <td>-1.063433</td>\n",
              "      <td>-0.679593</td>\n",
              "      <td>-0.564318</td>\n",
              "      <td>0.227346</td>\n",
              "      <td>1.614250</td>\n",
              "      <td>1.008597</td>\n",
              "      <td>0.527597</td>\n",
              "      <td>-0.723929</td>\n",
              "      <td>-1.119628</td>\n",
              "      <td>-0.796775</td>\n",
              "      <td>1.548067</td>\n",
              "      <td>-0.061743</td>\n",
              "      <td>-0.446836</td>\n",
              "      <td>-0.183756</td>\n",
              "      <td>0.824618</td>\n",
              "      <td>-1.312850</td>\n",
              "      <td>1.414874</td>\n",
              "      <td>0.156476</td>\n",
              "      <td>-0.216344</td>\n",
              "      <td>0.442846</td>\n",
              "      <td>0.218397</td>\n",
              "      <td>-0.344196</td>\n",
              "      <td>-0.252711</td>\n",
              "      <td>...</td>\n",
              "      <td>-2.719679</td>\n",
              "      <td>-1.096602</td>\n",
              "      <td>0.016491</td>\n",
              "      <td>-1.221776</td>\n",
              "      <td>-0.652761</td>\n",
              "      <td>-1.458941</td>\n",
              "      <td>0.169878</td>\n",
              "      <td>0.090826</td>\n",
              "      <td>-0.481393</td>\n",
              "      <td>1.397065</td>\n",
              "      <td>1.497715</td>\n",
              "      <td>0.565267</td>\n",
              "      <td>-1.799771</td>\n",
              "      <td>-1.104690</td>\n",
              "      <td>0.407130</td>\n",
              "      <td>-0.628558</td>\n",
              "      <td>-0.487091</td>\n",
              "      <td>0.898967</td>\n",
              "      <td>0.510875</td>\n",
              "      <td>1.314154</td>\n",
              "      <td>-0.429209</td>\n",
              "      <td>1.375225</td>\n",
              "      <td>-0.554131</td>\n",
              "      <td>1.499491</td>\n",
              "      <td>0.105835</td>\n",
              "      <td>-0.860510</td>\n",
              "      <td>-1.631220</td>\n",
              "      <td>-0.301472</td>\n",
              "      <td>-0.256233</td>\n",
              "      <td>0.857662</td>\n",
              "      <td>-0.110591</td>\n",
              "      <td>-0.432432</td>\n",
              "      <td>1.077037</td>\n",
              "      <td>-0.224827</td>\n",
              "      <td>-0.576242</td>\n",
              "      <td>0.574609</td>\n",
              "      <td>-0.489828</td>\n",
              "      <td>0.658802</td>\n",
              "      <td>-0.596917</td>\n",
              "      <td>-0.222959</td>\n",
              "    </tr>\n",
              "    <tr>\n",
              "      <th>3</th>\n",
              "      <td>4.6</td>\n",
              "      <td>3.1</td>\n",
              "      <td>1.5</td>\n",
              "      <td>0.2</td>\n",
              "      <td>0.152177</td>\n",
              "      <td>-0.374126</td>\n",
              "      <td>-0.013451</td>\n",
              "      <td>0.815472</td>\n",
              "      <td>0.410602</td>\n",
              "      <td>0.480970</td>\n",
              "      <td>-0.635430</td>\n",
              "      <td>0.852830</td>\n",
              "      <td>0.669562</td>\n",
              "      <td>1.004419</td>\n",
              "      <td>-0.726366</td>\n",
              "      <td>-0.172459</td>\n",
              "      <td>0.633534</td>\n",
              "      <td>-0.608815</td>\n",
              "      <td>-0.226122</td>\n",
              "      <td>1.925806</td>\n",
              "      <td>1.951761</td>\n",
              "      <td>1.239941</td>\n",
              "      <td>0.938585</td>\n",
              "      <td>-1.019251</td>\n",
              "      <td>0.512562</td>\n",
              "      <td>-0.359117</td>\n",
              "      <td>-1.058572</td>\n",
              "      <td>-0.509006</td>\n",
              "      <td>0.115665</td>\n",
              "      <td>-0.547356</td>\n",
              "      <td>-0.550799</td>\n",
              "      <td>0.792041</td>\n",
              "      <td>0.144106</td>\n",
              "      <td>0.233458</td>\n",
              "      <td>0.111872</td>\n",
              "      <td>-0.675703</td>\n",
              "      <td>-1.370572</td>\n",
              "      <td>0.310565</td>\n",
              "      <td>-0.507037</td>\n",
              "      <td>-2.010782</td>\n",
              "      <td>...</td>\n",
              "      <td>1.141648</td>\n",
              "      <td>1.274155</td>\n",
              "      <td>-1.664698</td>\n",
              "      <td>0.430379</td>\n",
              "      <td>-0.042602</td>\n",
              "      <td>0.388289</td>\n",
              "      <td>1.115977</td>\n",
              "      <td>-0.920538</td>\n",
              "      <td>-1.620274</td>\n",
              "      <td>1.106191</td>\n",
              "      <td>-0.998485</td>\n",
              "      <td>-0.686220</td>\n",
              "      <td>0.204621</td>\n",
              "      <td>-0.686102</td>\n",
              "      <td>-1.592211</td>\n",
              "      <td>0.034190</td>\n",
              "      <td>-0.781485</td>\n",
              "      <td>0.597860</td>\n",
              "      <td>-0.506077</td>\n",
              "      <td>-0.688446</td>\n",
              "      <td>-0.210001</td>\n",
              "      <td>1.052153</td>\n",
              "      <td>0.907904</td>\n",
              "      <td>-1.093226</td>\n",
              "      <td>2.799708</td>\n",
              "      <td>-0.325776</td>\n",
              "      <td>-1.152416</td>\n",
              "      <td>0.888232</td>\n",
              "      <td>-0.361672</td>\n",
              "      <td>2.153720</td>\n",
              "      <td>0.847408</td>\n",
              "      <td>-0.198720</td>\n",
              "      <td>1.575307</td>\n",
              "      <td>0.849115</td>\n",
              "      <td>-1.228895</td>\n",
              "      <td>0.888394</td>\n",
              "      <td>-0.516487</td>\n",
              "      <td>-0.083326</td>\n",
              "      <td>0.131054</td>\n",
              "      <td>-0.879096</td>\n",
              "    </tr>\n",
              "    <tr>\n",
              "      <th>4</th>\n",
              "      <td>5.0</td>\n",
              "      <td>3.6</td>\n",
              "      <td>1.4</td>\n",
              "      <td>0.2</td>\n",
              "      <td>-1.333342</td>\n",
              "      <td>0.367784</td>\n",
              "      <td>-1.388233</td>\n",
              "      <td>-2.575203</td>\n",
              "      <td>-0.836106</td>\n",
              "      <td>0.331092</td>\n",
              "      <td>-0.269881</td>\n",
              "      <td>1.267131</td>\n",
              "      <td>0.183753</td>\n",
              "      <td>-0.766310</td>\n",
              "      <td>-0.439584</td>\n",
              "      <td>-1.436541</td>\n",
              "      <td>1.085797</td>\n",
              "      <td>-1.381100</td>\n",
              "      <td>-0.920408</td>\n",
              "      <td>-0.160286</td>\n",
              "      <td>0.002353</td>\n",
              "      <td>-1.502650</td>\n",
              "      <td>-0.905536</td>\n",
              "      <td>0.265041</td>\n",
              "      <td>1.129723</td>\n",
              "      <td>0.349004</td>\n",
              "      <td>-0.025810</td>\n",
              "      <td>-1.562409</td>\n",
              "      <td>-0.617342</td>\n",
              "      <td>0.521494</td>\n",
              "      <td>1.080947</td>\n",
              "      <td>0.889376</td>\n",
              "      <td>0.138072</td>\n",
              "      <td>1.204600</td>\n",
              "      <td>2.881461</td>\n",
              "      <td>-0.593862</td>\n",
              "      <td>-0.763116</td>\n",
              "      <td>1.518483</td>\n",
              "      <td>0.235465</td>\n",
              "      <td>0.112308</td>\n",
              "      <td>...</td>\n",
              "      <td>-0.967127</td>\n",
              "      <td>-1.010546</td>\n",
              "      <td>0.406657</td>\n",
              "      <td>0.483472</td>\n",
              "      <td>-1.672445</td>\n",
              "      <td>0.622075</td>\n",
              "      <td>0.860973</td>\n",
              "      <td>-1.690998</td>\n",
              "      <td>-0.690431</td>\n",
              "      <td>1.428892</td>\n",
              "      <td>1.006102</td>\n",
              "      <td>0.024793</td>\n",
              "      <td>0.501249</td>\n",
              "      <td>2.112020</td>\n",
              "      <td>0.502797</td>\n",
              "      <td>-1.220809</td>\n",
              "      <td>1.364939</td>\n",
              "      <td>-0.870939</td>\n",
              "      <td>0.993902</td>\n",
              "      <td>0.656271</td>\n",
              "      <td>0.889514</td>\n",
              "      <td>1.540933</td>\n",
              "      <td>-1.465914</td>\n",
              "      <td>-0.069589</td>\n",
              "      <td>1.946050</td>\n",
              "      <td>0.976382</td>\n",
              "      <td>0.177158</td>\n",
              "      <td>-1.023173</td>\n",
              "      <td>0.106720</td>\n",
              "      <td>-0.911881</td>\n",
              "      <td>-1.468367</td>\n",
              "      <td>0.576479</td>\n",
              "      <td>0.065306</td>\n",
              "      <td>-0.773513</td>\n",
              "      <td>0.394948</td>\n",
              "      <td>-0.503890</td>\n",
              "      <td>1.779559</td>\n",
              "      <td>-0.030572</td>\n",
              "      <td>1.577088</td>\n",
              "      <td>-0.812802</td>\n",
              "    </tr>\n",
              "    <tr>\n",
              "      <th>...</th>\n",
              "      <td>...</td>\n",
              "      <td>...</td>\n",
              "      <td>...</td>\n",
              "      <td>...</td>\n",
              "      <td>...</td>\n",
              "      <td>...</td>\n",
              "      <td>...</td>\n",
              "      <td>...</td>\n",
              "      <td>...</td>\n",
              "      <td>...</td>\n",
              "      <td>...</td>\n",
              "      <td>...</td>\n",
              "      <td>...</td>\n",
              "      <td>...</td>\n",
              "      <td>...</td>\n",
              "      <td>...</td>\n",
              "      <td>...</td>\n",
              "      <td>...</td>\n",
              "      <td>...</td>\n",
              "      <td>...</td>\n",
              "      <td>...</td>\n",
              "      <td>...</td>\n",
              "      <td>...</td>\n",
              "      <td>...</td>\n",
              "      <td>...</td>\n",
              "      <td>...</td>\n",
              "      <td>...</td>\n",
              "      <td>...</td>\n",
              "      <td>...</td>\n",
              "      <td>...</td>\n",
              "      <td>...</td>\n",
              "      <td>...</td>\n",
              "      <td>...</td>\n",
              "      <td>...</td>\n",
              "      <td>...</td>\n",
              "      <td>...</td>\n",
              "      <td>...</td>\n",
              "      <td>...</td>\n",
              "      <td>...</td>\n",
              "      <td>...</td>\n",
              "      <td>...</td>\n",
              "      <td>...</td>\n",
              "      <td>...</td>\n",
              "      <td>...</td>\n",
              "      <td>...</td>\n",
              "      <td>...</td>\n",
              "      <td>...</td>\n",
              "      <td>...</td>\n",
              "      <td>...</td>\n",
              "      <td>...</td>\n",
              "      <td>...</td>\n",
              "      <td>...</td>\n",
              "      <td>...</td>\n",
              "      <td>...</td>\n",
              "      <td>...</td>\n",
              "      <td>...</td>\n",
              "      <td>...</td>\n",
              "      <td>...</td>\n",
              "      <td>...</td>\n",
              "      <td>...</td>\n",
              "      <td>...</td>\n",
              "      <td>...</td>\n",
              "      <td>...</td>\n",
              "      <td>...</td>\n",
              "      <td>...</td>\n",
              "      <td>...</td>\n",
              "      <td>...</td>\n",
              "      <td>...</td>\n",
              "      <td>...</td>\n",
              "      <td>...</td>\n",
              "      <td>...</td>\n",
              "      <td>...</td>\n",
              "      <td>...</td>\n",
              "      <td>...</td>\n",
              "      <td>...</td>\n",
              "      <td>...</td>\n",
              "      <td>...</td>\n",
              "      <td>...</td>\n",
              "      <td>...</td>\n",
              "      <td>...</td>\n",
              "      <td>...</td>\n",
              "    </tr>\n",
              "    <tr>\n",
              "      <th>145</th>\n",
              "      <td>6.7</td>\n",
              "      <td>3.0</td>\n",
              "      <td>5.2</td>\n",
              "      <td>2.3</td>\n",
              "      <td>-0.297001</td>\n",
              "      <td>-0.128682</td>\n",
              "      <td>-0.414718</td>\n",
              "      <td>0.393397</td>\n",
              "      <td>1.078364</td>\n",
              "      <td>-1.102716</td>\n",
              "      <td>0.917958</td>\n",
              "      <td>-1.170434</td>\n",
              "      <td>-0.126297</td>\n",
              "      <td>-0.660330</td>\n",
              "      <td>0.289220</td>\n",
              "      <td>0.309791</td>\n",
              "      <td>-0.406492</td>\n",
              "      <td>0.628400</td>\n",
              "      <td>-1.041174</td>\n",
              "      <td>-0.037969</td>\n",
              "      <td>0.018331</td>\n",
              "      <td>0.473106</td>\n",
              "      <td>0.911200</td>\n",
              "      <td>-1.340432</td>\n",
              "      <td>-1.852522</td>\n",
              "      <td>0.423422</td>\n",
              "      <td>-0.091173</td>\n",
              "      <td>-0.124952</td>\n",
              "      <td>0.367836</td>\n",
              "      <td>0.556620</td>\n",
              "      <td>-0.029984</td>\n",
              "      <td>-0.017534</td>\n",
              "      <td>1.208593</td>\n",
              "      <td>0.618185</td>\n",
              "      <td>0.766846</td>\n",
              "      <td>0.291490</td>\n",
              "      <td>-0.331002</td>\n",
              "      <td>0.557341</td>\n",
              "      <td>1.295726</td>\n",
              "      <td>-1.134986</td>\n",
              "      <td>...</td>\n",
              "      <td>0.621396</td>\n",
              "      <td>0.836447</td>\n",
              "      <td>1.989376</td>\n",
              "      <td>-0.158912</td>\n",
              "      <td>0.440679</td>\n",
              "      <td>-1.899927</td>\n",
              "      <td>-0.058318</td>\n",
              "      <td>2.808790</td>\n",
              "      <td>-0.642508</td>\n",
              "      <td>0.541811</td>\n",
              "      <td>0.394843</td>\n",
              "      <td>1.245473</td>\n",
              "      <td>0.454504</td>\n",
              "      <td>-2.725707</td>\n",
              "      <td>-0.857400</td>\n",
              "      <td>2.585352</td>\n",
              "      <td>-0.350247</td>\n",
              "      <td>-0.560478</td>\n",
              "      <td>-0.659928</td>\n",
              "      <td>-1.155946</td>\n",
              "      <td>1.398388</td>\n",
              "      <td>-0.894771</td>\n",
              "      <td>-0.344587</td>\n",
              "      <td>0.021572</td>\n",
              "      <td>-0.506149</td>\n",
              "      <td>-0.146225</td>\n",
              "      <td>2.152897</td>\n",
              "      <td>-0.821905</td>\n",
              "      <td>-0.624015</td>\n",
              "      <td>0.976830</td>\n",
              "      <td>0.653500</td>\n",
              "      <td>1.431293</td>\n",
              "      <td>0.545165</td>\n",
              "      <td>-0.135504</td>\n",
              "      <td>-0.438514</td>\n",
              "      <td>1.182933</td>\n",
              "      <td>0.835680</td>\n",
              "      <td>-0.554506</td>\n",
              "      <td>-1.494686</td>\n",
              "      <td>-0.965126</td>\n",
              "    </tr>\n",
              "    <tr>\n",
              "      <th>146</th>\n",
              "      <td>6.3</td>\n",
              "      <td>2.5</td>\n",
              "      <td>5.0</td>\n",
              "      <td>1.9</td>\n",
              "      <td>0.800262</td>\n",
              "      <td>1.688560</td>\n",
              "      <td>0.450863</td>\n",
              "      <td>-0.540508</td>\n",
              "      <td>-0.767724</td>\n",
              "      <td>2.127635</td>\n",
              "      <td>-1.508519</td>\n",
              "      <td>1.047072</td>\n",
              "      <td>-0.374204</td>\n",
              "      <td>0.481626</td>\n",
              "      <td>1.223920</td>\n",
              "      <td>2.200263</td>\n",
              "      <td>-1.145949</td>\n",
              "      <td>-1.939321</td>\n",
              "      <td>0.834852</td>\n",
              "      <td>-0.897386</td>\n",
              "      <td>-0.027035</td>\n",
              "      <td>-0.458457</td>\n",
              "      <td>0.286853</td>\n",
              "      <td>-0.034595</td>\n",
              "      <td>-0.944919</td>\n",
              "      <td>1.678343</td>\n",
              "      <td>-2.512473</td>\n",
              "      <td>0.271424</td>\n",
              "      <td>-0.728502</td>\n",
              "      <td>-1.111483</td>\n",
              "      <td>0.437478</td>\n",
              "      <td>1.222987</td>\n",
              "      <td>0.118882</td>\n",
              "      <td>0.641784</td>\n",
              "      <td>-0.033986</td>\n",
              "      <td>0.178840</td>\n",
              "      <td>-1.268353</td>\n",
              "      <td>-0.883431</td>\n",
              "      <td>0.088319</td>\n",
              "      <td>-0.741333</td>\n",
              "      <td>...</td>\n",
              "      <td>1.089351</td>\n",
              "      <td>0.338996</td>\n",
              "      <td>0.673784</td>\n",
              "      <td>-0.450051</td>\n",
              "      <td>1.900518</td>\n",
              "      <td>0.304631</td>\n",
              "      <td>1.052827</td>\n",
              "      <td>0.618170</td>\n",
              "      <td>1.253000</td>\n",
              "      <td>0.107371</td>\n",
              "      <td>0.663451</td>\n",
              "      <td>0.626190</td>\n",
              "      <td>0.952451</td>\n",
              "      <td>-0.301497</td>\n",
              "      <td>1.717403</td>\n",
              "      <td>-0.757899</td>\n",
              "      <td>-0.466339</td>\n",
              "      <td>-1.478278</td>\n",
              "      <td>-0.262805</td>\n",
              "      <td>0.523536</td>\n",
              "      <td>2.854336</td>\n",
              "      <td>-0.793447</td>\n",
              "      <td>0.213749</td>\n",
              "      <td>1.149221</td>\n",
              "      <td>0.713978</td>\n",
              "      <td>0.276061</td>\n",
              "      <td>0.436919</td>\n",
              "      <td>-1.452660</td>\n",
              "      <td>1.132175</td>\n",
              "      <td>0.428302</td>\n",
              "      <td>0.645363</td>\n",
              "      <td>-0.367909</td>\n",
              "      <td>0.821631</td>\n",
              "      <td>0.298809</td>\n",
              "      <td>-0.636723</td>\n",
              "      <td>1.332491</td>\n",
              "      <td>-0.218541</td>\n",
              "      <td>0.442856</td>\n",
              "      <td>-0.979318</td>\n",
              "      <td>-2.387628</td>\n",
              "    </tr>\n",
              "    <tr>\n",
              "      <th>147</th>\n",
              "      <td>6.5</td>\n",
              "      <td>3.0</td>\n",
              "      <td>5.2</td>\n",
              "      <td>2.0</td>\n",
              "      <td>0.741436</td>\n",
              "      <td>-0.587833</td>\n",
              "      <td>-0.168655</td>\n",
              "      <td>-1.030612</td>\n",
              "      <td>-0.514087</td>\n",
              "      <td>-0.693304</td>\n",
              "      <td>0.823075</td>\n",
              "      <td>-1.229556</td>\n",
              "      <td>2.267588</td>\n",
              "      <td>-0.002090</td>\n",
              "      <td>-1.530621</td>\n",
              "      <td>-0.204989</td>\n",
              "      <td>-0.617674</td>\n",
              "      <td>-1.055268</td>\n",
              "      <td>-1.026773</td>\n",
              "      <td>0.780577</td>\n",
              "      <td>1.468093</td>\n",
              "      <td>-0.637482</td>\n",
              "      <td>-0.044082</td>\n",
              "      <td>0.683878</td>\n",
              "      <td>0.165095</td>\n",
              "      <td>-0.609752</td>\n",
              "      <td>-0.995143</td>\n",
              "      <td>-1.123311</td>\n",
              "      <td>0.258734</td>\n",
              "      <td>-0.651768</td>\n",
              "      <td>0.663435</td>\n",
              "      <td>-0.187732</td>\n",
              "      <td>0.030868</td>\n",
              "      <td>0.028821</td>\n",
              "      <td>0.541550</td>\n",
              "      <td>-0.520112</td>\n",
              "      <td>0.482763</td>\n",
              "      <td>-0.185860</td>\n",
              "      <td>-1.308381</td>\n",
              "      <td>0.200316</td>\n",
              "      <td>...</td>\n",
              "      <td>-1.218404</td>\n",
              "      <td>0.556668</td>\n",
              "      <td>-1.365882</td>\n",
              "      <td>-0.428199</td>\n",
              "      <td>-1.738603</td>\n",
              "      <td>0.461615</td>\n",
              "      <td>-1.190011</td>\n",
              "      <td>-2.471311</td>\n",
              "      <td>-0.495434</td>\n",
              "      <td>0.234598</td>\n",
              "      <td>-1.848898</td>\n",
              "      <td>-2.174373</td>\n",
              "      <td>-0.640202</td>\n",
              "      <td>0.030349</td>\n",
              "      <td>-0.728430</td>\n",
              "      <td>1.917828</td>\n",
              "      <td>1.671347</td>\n",
              "      <td>0.403749</td>\n",
              "      <td>0.234640</td>\n",
              "      <td>2.045921</td>\n",
              "      <td>0.301523</td>\n",
              "      <td>0.713019</td>\n",
              "      <td>-0.634136</td>\n",
              "      <td>1.410679</td>\n",
              "      <td>0.235621</td>\n",
              "      <td>0.132762</td>\n",
              "      <td>-0.223050</td>\n",
              "      <td>-0.409145</td>\n",
              "      <td>0.200599</td>\n",
              "      <td>-0.083366</td>\n",
              "      <td>-0.870029</td>\n",
              "      <td>2.795415</td>\n",
              "      <td>1.731794</td>\n",
              "      <td>-0.657168</td>\n",
              "      <td>0.601890</td>\n",
              "      <td>-0.052083</td>\n",
              "      <td>0.350729</td>\n",
              "      <td>-0.515491</td>\n",
              "      <td>-0.129649</td>\n",
              "      <td>-0.509281</td>\n",
              "    </tr>\n",
              "    <tr>\n",
              "      <th>148</th>\n",
              "      <td>6.2</td>\n",
              "      <td>3.4</td>\n",
              "      <td>5.4</td>\n",
              "      <td>2.3</td>\n",
              "      <td>1.277356</td>\n",
              "      <td>1.011699</td>\n",
              "      <td>-0.615085</td>\n",
              "      <td>-1.477358</td>\n",
              "      <td>0.756327</td>\n",
              "      <td>0.847113</td>\n",
              "      <td>-0.472082</td>\n",
              "      <td>0.431353</td>\n",
              "      <td>0.037515</td>\n",
              "      <td>0.835044</td>\n",
              "      <td>0.429456</td>\n",
              "      <td>-0.330587</td>\n",
              "      <td>0.486177</td>\n",
              "      <td>0.697656</td>\n",
              "      <td>0.627220</td>\n",
              "      <td>-1.663717</td>\n",
              "      <td>-0.247589</td>\n",
              "      <td>1.082897</td>\n",
              "      <td>1.937541</td>\n",
              "      <td>0.017168</td>\n",
              "      <td>-0.274976</td>\n",
              "      <td>-0.706727</td>\n",
              "      <td>-1.838492</td>\n",
              "      <td>-0.672724</td>\n",
              "      <td>0.481895</td>\n",
              "      <td>0.873482</td>\n",
              "      <td>1.138963</td>\n",
              "      <td>-1.371882</td>\n",
              "      <td>1.022354</td>\n",
              "      <td>0.426212</td>\n",
              "      <td>0.202597</td>\n",
              "      <td>0.142305</td>\n",
              "      <td>1.429890</td>\n",
              "      <td>-1.319985</td>\n",
              "      <td>0.456820</td>\n",
              "      <td>1.534574</td>\n",
              "      <td>...</td>\n",
              "      <td>0.894030</td>\n",
              "      <td>-0.585842</td>\n",
              "      <td>2.817814</td>\n",
              "      <td>-2.288685</td>\n",
              "      <td>-0.168145</td>\n",
              "      <td>0.578514</td>\n",
              "      <td>-0.821791</td>\n",
              "      <td>0.340851</td>\n",
              "      <td>-0.614723</td>\n",
              "      <td>-1.131069</td>\n",
              "      <td>0.943196</td>\n",
              "      <td>-0.612203</td>\n",
              "      <td>-0.609353</td>\n",
              "      <td>-0.219053</td>\n",
              "      <td>0.284343</td>\n",
              "      <td>0.669146</td>\n",
              "      <td>-0.867812</td>\n",
              "      <td>1.597151</td>\n",
              "      <td>-0.154008</td>\n",
              "      <td>-2.237539</td>\n",
              "      <td>-0.572175</td>\n",
              "      <td>-0.329841</td>\n",
              "      <td>-1.072820</td>\n",
              "      <td>0.536796</td>\n",
              "      <td>2.142301</td>\n",
              "      <td>1.492509</td>\n",
              "      <td>-0.133224</td>\n",
              "      <td>0.759675</td>\n",
              "      <td>-0.990024</td>\n",
              "      <td>1.697590</td>\n",
              "      <td>-1.103997</td>\n",
              "      <td>-0.236574</td>\n",
              "      <td>-0.847747</td>\n",
              "      <td>0.515822</td>\n",
              "      <td>0.953812</td>\n",
              "      <td>-0.139397</td>\n",
              "      <td>0.209856</td>\n",
              "      <td>1.421478</td>\n",
              "      <td>-0.613362</td>\n",
              "      <td>-0.344320</td>\n",
              "    </tr>\n",
              "    <tr>\n",
              "      <th>149</th>\n",
              "      <td>5.9</td>\n",
              "      <td>3.0</td>\n",
              "      <td>5.1</td>\n",
              "      <td>1.8</td>\n",
              "      <td>0.798725</td>\n",
              "      <td>0.296542</td>\n",
              "      <td>-0.625250</td>\n",
              "      <td>0.091285</td>\n",
              "      <td>0.383750</td>\n",
              "      <td>-1.901916</td>\n",
              "      <td>-0.971421</td>\n",
              "      <td>0.876534</td>\n",
              "      <td>0.201072</td>\n",
              "      <td>-0.352175</td>\n",
              "      <td>1.372605</td>\n",
              "      <td>-0.292517</td>\n",
              "      <td>-0.630974</td>\n",
              "      <td>-0.195066</td>\n",
              "      <td>-0.579611</td>\n",
              "      <td>0.295139</td>\n",
              "      <td>0.384576</td>\n",
              "      <td>-0.155666</td>\n",
              "      <td>-0.277368</td>\n",
              "      <td>0.232813</td>\n",
              "      <td>0.733817</td>\n",
              "      <td>-0.178426</td>\n",
              "      <td>0.182400</td>\n",
              "      <td>0.729952</td>\n",
              "      <td>0.171636</td>\n",
              "      <td>-0.030870</td>\n",
              "      <td>0.213817</td>\n",
              "      <td>0.308976</td>\n",
              "      <td>0.732293</td>\n",
              "      <td>-1.005524</td>\n",
              "      <td>-0.465597</td>\n",
              "      <td>1.451053</td>\n",
              "      <td>0.805304</td>\n",
              "      <td>0.830782</td>\n",
              "      <td>0.580619</td>\n",
              "      <td>1.401262</td>\n",
              "      <td>...</td>\n",
              "      <td>-1.692417</td>\n",
              "      <td>0.968971</td>\n",
              "      <td>1.371423</td>\n",
              "      <td>-0.144225</td>\n",
              "      <td>0.503164</td>\n",
              "      <td>-0.228220</td>\n",
              "      <td>0.153762</td>\n",
              "      <td>1.872044</td>\n",
              "      <td>2.153554</td>\n",
              "      <td>0.006797</td>\n",
              "      <td>0.199865</td>\n",
              "      <td>0.261346</td>\n",
              "      <td>-0.127987</td>\n",
              "      <td>-0.298503</td>\n",
              "      <td>-0.364240</td>\n",
              "      <td>-1.370135</td>\n",
              "      <td>0.769663</td>\n",
              "      <td>-0.517183</td>\n",
              "      <td>0.079694</td>\n",
              "      <td>1.016127</td>\n",
              "      <td>-0.151673</td>\n",
              "      <td>-1.425200</td>\n",
              "      <td>1.070922</td>\n",
              "      <td>0.938801</td>\n",
              "      <td>1.373176</td>\n",
              "      <td>-0.583906</td>\n",
              "      <td>-0.292270</td>\n",
              "      <td>-1.206766</td>\n",
              "      <td>-1.047465</td>\n",
              "      <td>0.007588</td>\n",
              "      <td>-0.097090</td>\n",
              "      <td>0.780444</td>\n",
              "      <td>0.221082</td>\n",
              "      <td>0.072749</td>\n",
              "      <td>-1.484862</td>\n",
              "      <td>0.462160</td>\n",
              "      <td>1.549025</td>\n",
              "      <td>2.531705</td>\n",
              "      <td>-0.035722</td>\n",
              "      <td>0.173200</td>\n",
              "    </tr>\n",
              "  </tbody>\n",
              "</table>\n",
              "<p>150 rows × 804 columns</p>\n",
              "</div>\n",
              "      <button class=\"colab-df-convert\" onclick=\"convertToInteractive('df-99742a06-8e4e-47ed-8e6b-4a9b0a7e2854')\"\n",
              "              title=\"Convert this dataframe to an interactive table.\"\n",
              "              style=\"display:none;\">\n",
              "        \n",
              "  <svg xmlns=\"http://www.w3.org/2000/svg\" height=\"24px\"viewBox=\"0 0 24 24\"\n",
              "       width=\"24px\">\n",
              "    <path d=\"M0 0h24v24H0V0z\" fill=\"none\"/>\n",
              "    <path d=\"M18.56 5.44l.94 2.06.94-2.06 2.06-.94-2.06-.94-.94-2.06-.94 2.06-2.06.94zm-11 1L8.5 8.5l.94-2.06 2.06-.94-2.06-.94L8.5 2.5l-.94 2.06-2.06.94zm10 10l.94 2.06.94-2.06 2.06-.94-2.06-.94-.94-2.06-.94 2.06-2.06.94z\"/><path d=\"M17.41 7.96l-1.37-1.37c-.4-.4-.92-.59-1.43-.59-.52 0-1.04.2-1.43.59L10.3 9.45l-7.72 7.72c-.78.78-.78 2.05 0 2.83L4 21.41c.39.39.9.59 1.41.59.51 0 1.02-.2 1.41-.59l7.78-7.78 2.81-2.81c.8-.78.8-2.07 0-2.86zM5.41 20L4 18.59l7.72-7.72 1.47 1.35L5.41 20z\"/>\n",
              "  </svg>\n",
              "      </button>\n",
              "      \n",
              "  <style>\n",
              "    .colab-df-container {\n",
              "      display:flex;\n",
              "      flex-wrap:wrap;\n",
              "      gap: 12px;\n",
              "    }\n",
              "\n",
              "    .colab-df-convert {\n",
              "      background-color: #E8F0FE;\n",
              "      border: none;\n",
              "      border-radius: 50%;\n",
              "      cursor: pointer;\n",
              "      display: none;\n",
              "      fill: #1967D2;\n",
              "      height: 32px;\n",
              "      padding: 0 0 0 0;\n",
              "      width: 32px;\n",
              "    }\n",
              "\n",
              "    .colab-df-convert:hover {\n",
              "      background-color: #E2EBFA;\n",
              "      box-shadow: 0px 1px 2px rgba(60, 64, 67, 0.3), 0px 1px 3px 1px rgba(60, 64, 67, 0.15);\n",
              "      fill: #174EA6;\n",
              "    }\n",
              "\n",
              "    [theme=dark] .colab-df-convert {\n",
              "      background-color: #3B4455;\n",
              "      fill: #D2E3FC;\n",
              "    }\n",
              "\n",
              "    [theme=dark] .colab-df-convert:hover {\n",
              "      background-color: #434B5C;\n",
              "      box-shadow: 0px 1px 3px 1px rgba(0, 0, 0, 0.15);\n",
              "      filter: drop-shadow(0px 1px 2px rgba(0, 0, 0, 0.3));\n",
              "      fill: #FFFFFF;\n",
              "    }\n",
              "  </style>\n",
              "\n",
              "      <script>\n",
              "        const buttonEl =\n",
              "          document.querySelector('#df-99742a06-8e4e-47ed-8e6b-4a9b0a7e2854 button.colab-df-convert');\n",
              "        buttonEl.style.display =\n",
              "          google.colab.kernel.accessAllowed ? 'block' : 'none';\n",
              "\n",
              "        async function convertToInteractive(key) {\n",
              "          const element = document.querySelector('#df-99742a06-8e4e-47ed-8e6b-4a9b0a7e2854');\n",
              "          const dataTable =\n",
              "            await google.colab.kernel.invokeFunction('convertToInteractive',\n",
              "                                                     [key], {});\n",
              "          if (!dataTable) return;\n",
              "\n",
              "          const docLinkHtml = 'Like what you see? Visit the ' +\n",
              "            '<a target=\"_blank\" href=https://colab.research.google.com/notebooks/data_table.ipynb>data table notebook</a>'\n",
              "            + ' to learn more about interactive tables.';\n",
              "          element.innerHTML = '';\n",
              "          dataTable['output_type'] = 'display_data';\n",
              "          await google.colab.output.renderOutput(dataTable, element);\n",
              "          const docLink = document.createElement('div');\n",
              "          docLink.innerHTML = docLinkHtml;\n",
              "          element.appendChild(docLink);\n",
              "        }\n",
              "      </script>\n",
              "    </div>\n",
              "  </div>\n",
              "  "
            ],
            "text/plain": [
              "     0    1    2    3    ...       800       801       802       803\n",
              "0    5.1  3.5  1.4  0.2  ...  0.074586 -1.077099 -0.424663 -0.829965\n",
              "1    4.9  3.0  1.4  0.2  ... -0.923912  1.412152 -1.380431 -0.535915\n",
              "2    4.7  3.2  1.3  0.2  ... -0.489828  0.658802 -0.596917 -0.222959\n",
              "3    4.6  3.1  1.5  0.2  ... -0.516487 -0.083326  0.131054 -0.879096\n",
              "4    5.0  3.6  1.4  0.2  ...  1.779559 -0.030572  1.577088 -0.812802\n",
              "..   ...  ...  ...  ...  ...       ...       ...       ...       ...\n",
              "145  6.7  3.0  5.2  2.3  ...  0.835680 -0.554506 -1.494686 -0.965126\n",
              "146  6.3  2.5  5.0  1.9  ... -0.218541  0.442856 -0.979318 -2.387628\n",
              "147  6.5  3.0  5.2  2.0  ...  0.350729 -0.515491 -0.129649 -0.509281\n",
              "148  6.2  3.4  5.4  2.3  ...  0.209856  1.421478 -0.613362 -0.344320\n",
              "149  5.9  3.0  5.1  1.8  ...  1.549025  2.531705 -0.035722  0.173200\n",
              "\n",
              "[150 rows x 804 columns]"
            ]
          },
          "metadata": {},
          "execution_count": 25
        }
      ]
    },
    {
      "cell_type": "code",
      "source": [
        "# Embaralhar e dividir os conjuntos de treinamento e teste\n",
        "\n",
        "X_train, X_test, y_train, y_test = train_test_split(X, y, test_size=0.30, random_state=random_state)"
      ],
      "metadata": {
        "id": "jJJEFWQPr5vd"
      },
      "execution_count": 26,
      "outputs": []
    },
    {
      "cell_type": "code",
      "source": [
        "X_train.shape"
      ],
      "metadata": {
        "colab": {
          "base_uri": "https://localhost:8080/"
        },
        "id": "tsJlKpFppGoL",
        "outputId": "616b65dc-6c2f-47b0-a51e-5c1646b8b41d"
      },
      "execution_count": 27,
      "outputs": [
        {
          "output_type": "execute_result",
          "data": {
            "text/plain": [
              "(105, 804)"
            ]
          },
          "metadata": {},
          "execution_count": 27
        }
      ]
    },
    {
      "cell_type": "code",
      "source": [
        "len(X_train.shape)"
      ],
      "metadata": {
        "colab": {
          "base_uri": "https://localhost:8080/"
        },
        "id": "IP7Aj6unny8w",
        "outputId": "fbbc3939-38ac-43ff-bc76-10744c6e4906"
      },
      "execution_count": 28,
      "outputs": [
        {
          "output_type": "execute_result",
          "data": {
            "text/plain": [
              "2"
            ]
          },
          "metadata": {},
          "execution_count": 28
        }
      ]
    },
    {
      "cell_type": "code",
      "source": [
        "X_test.shape"
      ],
      "metadata": {
        "colab": {
          "base_uri": "https://localhost:8080/"
        },
        "id": "UUpispnjntsh",
        "outputId": "ea1228f9-890d-4623-c5db-12be66aca2d7"
      },
      "execution_count": 29,
      "outputs": [
        {
          "output_type": "execute_result",
          "data": {
            "text/plain": [
              "(45, 804)"
            ]
          },
          "metadata": {},
          "execution_count": 29
        }
      ]
    },
    {
      "cell_type": "code",
      "source": [
        "y_train.shape"
      ],
      "metadata": {
        "colab": {
          "base_uri": "https://localhost:8080/"
        },
        "id": "AE45hRwSsQ8y",
        "outputId": "504701b5-5d32-4a25-e0fb-5d9b1aa53ca0"
      },
      "execution_count": 30,
      "outputs": [
        {
          "output_type": "execute_result",
          "data": {
            "text/plain": [
              "(105, 3)"
            ]
          },
          "metadata": {},
          "execution_count": 30
        }
      ]
    },
    {
      "cell_type": "code",
      "source": [
        "y_test.shape"
      ],
      "metadata": {
        "colab": {
          "base_uri": "https://localhost:8080/"
        },
        "id": "GNuuj-4Gpgxr",
        "outputId": "fccfe89c-798e-4fc3-ba28-c5bfbe9c2318"
      },
      "execution_count": 31,
      "outputs": [
        {
          "output_type": "execute_result",
          "data": {
            "text/plain": [
              "(45, 3)"
            ]
          },
          "metadata": {},
          "execution_count": 31
        }
      ]
    },
    {
      "cell_type": "code",
      "source": [
        "# Aprenda a prever (predict) cada classe contra a outra\n",
        "\n",
        "classifier = OneVsRestClassifier(svm.SVC(kernel=\"linear\", probability=True, random_state=random_state))\n",
        "\n",
        "y_score = classifier.fit(X_train, y_train).decision_function(X_test)"
      ],
      "metadata": {
        "id": "c15T_B4csISj"
      },
      "execution_count": 33,
      "outputs": []
    },
    {
      "cell_type": "code",
      "source": [
        "y_score.shape"
      ],
      "metadata": {
        "colab": {
          "base_uri": "https://localhost:8080/"
        },
        "id": "WhkqM9oXKIFH",
        "outputId": "5faf6f8a-cbde-40ba-d435-69e9452dc253"
      },
      "execution_count": 37,
      "outputs": [
        {
          "output_type": "execute_result",
          "data": {
            "text/plain": [
              "(45, 3)"
            ]
          },
          "metadata": {},
          "execution_count": 37
        }
      ]
    },
    {
      "cell_type": "code",
      "source": [
        "y_score_eddy = pd.DataFrame(y_score)\n",
        "y_score_eddy.head(5)"
      ],
      "metadata": {
        "colab": {
          "base_uri": "https://localhost:8080/",
          "height": 202
        },
        "id": "N0oid6f3yr0n",
        "outputId": "9467d496-dbc1-4be4-c304-c46310ad2ea0"
      },
      "execution_count": 38,
      "outputs": [
        {
          "output_type": "execute_result",
          "data": {
            "text/html": [
              "\n",
              "  <div id=\"df-98ebc530-232e-4179-bbf7-4bf935f3939f\">\n",
              "    <div class=\"colab-df-container\">\n",
              "      <div>\n",
              "<style scoped>\n",
              "    .dataframe tbody tr th:only-of-type {\n",
              "        vertical-align: middle;\n",
              "    }\n",
              "\n",
              "    .dataframe tbody tr th {\n",
              "        vertical-align: top;\n",
              "    }\n",
              "\n",
              "    .dataframe thead th {\n",
              "        text-align: right;\n",
              "    }\n",
              "</style>\n",
              "<table border=\"1\" class=\"dataframe\">\n",
              "  <thead>\n",
              "    <tr style=\"text-align: right;\">\n",
              "      <th></th>\n",
              "      <th>0</th>\n",
              "      <th>1</th>\n",
              "      <th>2</th>\n",
              "    </tr>\n",
              "  </thead>\n",
              "  <tbody>\n",
              "    <tr>\n",
              "      <th>0</th>\n",
              "      <td>-0.067164</td>\n",
              "      <td>-0.594309</td>\n",
              "      <td>-0.348062</td>\n",
              "    </tr>\n",
              "    <tr>\n",
              "      <th>1</th>\n",
              "      <td>-0.074371</td>\n",
              "      <td>-0.339684</td>\n",
              "      <td>-0.582431</td>\n",
              "    </tr>\n",
              "    <tr>\n",
              "      <th>2</th>\n",
              "      <td>-0.269154</td>\n",
              "      <td>-0.733283</td>\n",
              "      <td>0.004740</td>\n",
              "    </tr>\n",
              "    <tr>\n",
              "      <th>3</th>\n",
              "      <td>-0.309726</td>\n",
              "      <td>-0.741595</td>\n",
              "      <td>0.070400</td>\n",
              "    </tr>\n",
              "    <tr>\n",
              "      <th>4</th>\n",
              "      <td>-0.259621</td>\n",
              "      <td>-0.602906</td>\n",
              "      <td>-0.159475</td>\n",
              "    </tr>\n",
              "  </tbody>\n",
              "</table>\n",
              "</div>\n",
              "      <button class=\"colab-df-convert\" onclick=\"convertToInteractive('df-98ebc530-232e-4179-bbf7-4bf935f3939f')\"\n",
              "              title=\"Convert this dataframe to an interactive table.\"\n",
              "              style=\"display:none;\">\n",
              "        \n",
              "  <svg xmlns=\"http://www.w3.org/2000/svg\" height=\"24px\"viewBox=\"0 0 24 24\"\n",
              "       width=\"24px\">\n",
              "    <path d=\"M0 0h24v24H0V0z\" fill=\"none\"/>\n",
              "    <path d=\"M18.56 5.44l.94 2.06.94-2.06 2.06-.94-2.06-.94-.94-2.06-.94 2.06-2.06.94zm-11 1L8.5 8.5l.94-2.06 2.06-.94-2.06-.94L8.5 2.5l-.94 2.06-2.06.94zm10 10l.94 2.06.94-2.06 2.06-.94-2.06-.94-.94-2.06-.94 2.06-2.06.94z\"/><path d=\"M17.41 7.96l-1.37-1.37c-.4-.4-.92-.59-1.43-.59-.52 0-1.04.2-1.43.59L10.3 9.45l-7.72 7.72c-.78.78-.78 2.05 0 2.83L4 21.41c.39.39.9.59 1.41.59.51 0 1.02-.2 1.41-.59l7.78-7.78 2.81-2.81c.8-.78.8-2.07 0-2.86zM5.41 20L4 18.59l7.72-7.72 1.47 1.35L5.41 20z\"/>\n",
              "  </svg>\n",
              "      </button>\n",
              "      \n",
              "  <style>\n",
              "    .colab-df-container {\n",
              "      display:flex;\n",
              "      flex-wrap:wrap;\n",
              "      gap: 12px;\n",
              "    }\n",
              "\n",
              "    .colab-df-convert {\n",
              "      background-color: #E8F0FE;\n",
              "      border: none;\n",
              "      border-radius: 50%;\n",
              "      cursor: pointer;\n",
              "      display: none;\n",
              "      fill: #1967D2;\n",
              "      height: 32px;\n",
              "      padding: 0 0 0 0;\n",
              "      width: 32px;\n",
              "    }\n",
              "\n",
              "    .colab-df-convert:hover {\n",
              "      background-color: #E2EBFA;\n",
              "      box-shadow: 0px 1px 2px rgba(60, 64, 67, 0.3), 0px 1px 3px 1px rgba(60, 64, 67, 0.15);\n",
              "      fill: #174EA6;\n",
              "    }\n",
              "\n",
              "    [theme=dark] .colab-df-convert {\n",
              "      background-color: #3B4455;\n",
              "      fill: #D2E3FC;\n",
              "    }\n",
              "\n",
              "    [theme=dark] .colab-df-convert:hover {\n",
              "      background-color: #434B5C;\n",
              "      box-shadow: 0px 1px 3px 1px rgba(0, 0, 0, 0.15);\n",
              "      filter: drop-shadow(0px 1px 2px rgba(0, 0, 0, 0.3));\n",
              "      fill: #FFFFFF;\n",
              "    }\n",
              "  </style>\n",
              "\n",
              "      <script>\n",
              "        const buttonEl =\n",
              "          document.querySelector('#df-98ebc530-232e-4179-bbf7-4bf935f3939f button.colab-df-convert');\n",
              "        buttonEl.style.display =\n",
              "          google.colab.kernel.accessAllowed ? 'block' : 'none';\n",
              "\n",
              "        async function convertToInteractive(key) {\n",
              "          const element = document.querySelector('#df-98ebc530-232e-4179-bbf7-4bf935f3939f');\n",
              "          const dataTable =\n",
              "            await google.colab.kernel.invokeFunction('convertToInteractive',\n",
              "                                                     [key], {});\n",
              "          if (!dataTable) return;\n",
              "\n",
              "          const docLinkHtml = 'Like what you see? Visit the ' +\n",
              "            '<a target=\"_blank\" href=https://colab.research.google.com/notebooks/data_table.ipynb>data table notebook</a>'\n",
              "            + ' to learn more about interactive tables.';\n",
              "          element.innerHTML = '';\n",
              "          dataTable['output_type'] = 'display_data';\n",
              "          await google.colab.output.renderOutput(dataTable, element);\n",
              "          const docLink = document.createElement('div');\n",
              "          docLink.innerHTML = docLinkHtml;\n",
              "          element.appendChild(docLink);\n",
              "        }\n",
              "      </script>\n",
              "    </div>\n",
              "  </div>\n",
              "  "
            ],
            "text/plain": [
              "          0         1         2\n",
              "0 -0.067164 -0.594309 -0.348062\n",
              "1 -0.074371 -0.339684 -0.582431\n",
              "2 -0.269154 -0.733283  0.004740\n",
              "3 -0.309726 -0.741595  0.070400\n",
              "4 -0.259621 -0.602906 -0.159475"
            ]
          },
          "metadata": {},
          "execution_count": 38
        }
      ]
    },
    {
      "cell_type": "code",
      "source": [
        "y_test_eddy = pd.DataFrame(y_test)\n",
        "y_test_eddy.head(5)"
      ],
      "metadata": {
        "colab": {
          "base_uri": "https://localhost:8080/",
          "height": 202
        },
        "id": "_krhpQgDzAqz",
        "outputId": "3b66ecee-3760-4e3a-cc39-11b1e07da0e7"
      },
      "execution_count": 39,
      "outputs": [
        {
          "output_type": "execute_result",
          "data": {
            "text/html": [
              "\n",
              "  <div id=\"df-52af8698-3ca3-422c-9dc4-0200ecf9f578\">\n",
              "    <div class=\"colab-df-container\">\n",
              "      <div>\n",
              "<style scoped>\n",
              "    .dataframe tbody tr th:only-of-type {\n",
              "        vertical-align: middle;\n",
              "    }\n",
              "\n",
              "    .dataframe tbody tr th {\n",
              "        vertical-align: top;\n",
              "    }\n",
              "\n",
              "    .dataframe thead th {\n",
              "        text-align: right;\n",
              "    }\n",
              "</style>\n",
              "<table border=\"1\" class=\"dataframe\">\n",
              "  <thead>\n",
              "    <tr style=\"text-align: right;\">\n",
              "      <th></th>\n",
              "      <th>0</th>\n",
              "      <th>1</th>\n",
              "      <th>2</th>\n",
              "    </tr>\n",
              "  </thead>\n",
              "  <tbody>\n",
              "    <tr>\n",
              "      <th>0</th>\n",
              "      <td>0</td>\n",
              "      <td>1</td>\n",
              "      <td>0</td>\n",
              "    </tr>\n",
              "    <tr>\n",
              "      <th>1</th>\n",
              "      <td>1</td>\n",
              "      <td>0</td>\n",
              "      <td>0</td>\n",
              "    </tr>\n",
              "    <tr>\n",
              "      <th>2</th>\n",
              "      <td>0</td>\n",
              "      <td>1</td>\n",
              "      <td>0</td>\n",
              "    </tr>\n",
              "    <tr>\n",
              "      <th>3</th>\n",
              "      <td>0</td>\n",
              "      <td>1</td>\n",
              "      <td>0</td>\n",
              "    </tr>\n",
              "    <tr>\n",
              "      <th>4</th>\n",
              "      <td>1</td>\n",
              "      <td>0</td>\n",
              "      <td>0</td>\n",
              "    </tr>\n",
              "  </tbody>\n",
              "</table>\n",
              "</div>\n",
              "      <button class=\"colab-df-convert\" onclick=\"convertToInteractive('df-52af8698-3ca3-422c-9dc4-0200ecf9f578')\"\n",
              "              title=\"Convert this dataframe to an interactive table.\"\n",
              "              style=\"display:none;\">\n",
              "        \n",
              "  <svg xmlns=\"http://www.w3.org/2000/svg\" height=\"24px\"viewBox=\"0 0 24 24\"\n",
              "       width=\"24px\">\n",
              "    <path d=\"M0 0h24v24H0V0z\" fill=\"none\"/>\n",
              "    <path d=\"M18.56 5.44l.94 2.06.94-2.06 2.06-.94-2.06-.94-.94-2.06-.94 2.06-2.06.94zm-11 1L8.5 8.5l.94-2.06 2.06-.94-2.06-.94L8.5 2.5l-.94 2.06-2.06.94zm10 10l.94 2.06.94-2.06 2.06-.94-2.06-.94-.94-2.06-.94 2.06-2.06.94z\"/><path d=\"M17.41 7.96l-1.37-1.37c-.4-.4-.92-.59-1.43-.59-.52 0-1.04.2-1.43.59L10.3 9.45l-7.72 7.72c-.78.78-.78 2.05 0 2.83L4 21.41c.39.39.9.59 1.41.59.51 0 1.02-.2 1.41-.59l7.78-7.78 2.81-2.81c.8-.78.8-2.07 0-2.86zM5.41 20L4 18.59l7.72-7.72 1.47 1.35L5.41 20z\"/>\n",
              "  </svg>\n",
              "      </button>\n",
              "      \n",
              "  <style>\n",
              "    .colab-df-container {\n",
              "      display:flex;\n",
              "      flex-wrap:wrap;\n",
              "      gap: 12px;\n",
              "    }\n",
              "\n",
              "    .colab-df-convert {\n",
              "      background-color: #E8F0FE;\n",
              "      border: none;\n",
              "      border-radius: 50%;\n",
              "      cursor: pointer;\n",
              "      display: none;\n",
              "      fill: #1967D2;\n",
              "      height: 32px;\n",
              "      padding: 0 0 0 0;\n",
              "      width: 32px;\n",
              "    }\n",
              "\n",
              "    .colab-df-convert:hover {\n",
              "      background-color: #E2EBFA;\n",
              "      box-shadow: 0px 1px 2px rgba(60, 64, 67, 0.3), 0px 1px 3px 1px rgba(60, 64, 67, 0.15);\n",
              "      fill: #174EA6;\n",
              "    }\n",
              "\n",
              "    [theme=dark] .colab-df-convert {\n",
              "      background-color: #3B4455;\n",
              "      fill: #D2E3FC;\n",
              "    }\n",
              "\n",
              "    [theme=dark] .colab-df-convert:hover {\n",
              "      background-color: #434B5C;\n",
              "      box-shadow: 0px 1px 3px 1px rgba(0, 0, 0, 0.15);\n",
              "      filter: drop-shadow(0px 1px 2px rgba(0, 0, 0, 0.3));\n",
              "      fill: #FFFFFF;\n",
              "    }\n",
              "  </style>\n",
              "\n",
              "      <script>\n",
              "        const buttonEl =\n",
              "          document.querySelector('#df-52af8698-3ca3-422c-9dc4-0200ecf9f578 button.colab-df-convert');\n",
              "        buttonEl.style.display =\n",
              "          google.colab.kernel.accessAllowed ? 'block' : 'none';\n",
              "\n",
              "        async function convertToInteractive(key) {\n",
              "          const element = document.querySelector('#df-52af8698-3ca3-422c-9dc4-0200ecf9f578');\n",
              "          const dataTable =\n",
              "            await google.colab.kernel.invokeFunction('convertToInteractive',\n",
              "                                                     [key], {});\n",
              "          if (!dataTable) return;\n",
              "\n",
              "          const docLinkHtml = 'Like what you see? Visit the ' +\n",
              "            '<a target=\"_blank\" href=https://colab.research.google.com/notebooks/data_table.ipynb>data table notebook</a>'\n",
              "            + ' to learn more about interactive tables.';\n",
              "          element.innerHTML = '';\n",
              "          dataTable['output_type'] = 'display_data';\n",
              "          await google.colab.output.renderOutput(dataTable, element);\n",
              "          const docLink = document.createElement('div');\n",
              "          docLink.innerHTML = docLinkHtml;\n",
              "          element.appendChild(docLink);\n",
              "        }\n",
              "      </script>\n",
              "    </div>\n",
              "  </div>\n",
              "  "
            ],
            "text/plain": [
              "   0  1  2\n",
              "0  0  1  0\n",
              "1  1  0  0\n",
              "2  0  1  0\n",
              "3  0  1  0\n",
              "4  1  0  0"
            ]
          },
          "metadata": {},
          "execution_count": 39
        }
      ]
    },
    {
      "cell_type": "code",
      "source": [
        "# Calcular a curva ROC e a área ROC para cada classe\n",
        "fpr = dict()\n",
        "tpr = dict()\n",
        "roc_auc = dict()\n",
        "for i in range(n_classes): # Lembrar que temos três clases\n",
        "    fpr[i], tpr[i], _ = roc_curve(y_test[:, i], y_score[:, i])\n",
        "    roc_auc[i] = auc(fpr[i], tpr[i])"
      ],
      "metadata": {
        "id": "CON_P2hcskj0"
      },
      "execution_count": 40,
      "outputs": []
    },
    {
      "cell_type": "code",
      "source": [
        "# Calcular a curva ROC micro-média e a área ROC\n",
        "\n",
        "fpr[\"micro\"], tpr[\"micro\"], _ = roc_curve(y_test.ravel(), y_score.ravel())\n",
        "roc_auc[\"micro\"] = auc(fpr[\"micro\"], tpr[\"micro\"])"
      ],
      "metadata": {
        "id": "mq5kgXNNso_i"
      },
      "execution_count": 41,
      "outputs": []
    },
    {
      "cell_type": "code",
      "source": [
        "y_test.ravel()"
      ],
      "metadata": {
        "colab": {
          "base_uri": "https://localhost:8080/"
        },
        "id": "hmzooLvXbjyj",
        "outputId": "03ec984d-213d-44b7-cb25-78d1e0461d2b"
      },
      "execution_count": 42,
      "outputs": [
        {
          "output_type": "execute_result",
          "data": {
            "text/plain": [
              "array([0, 1, 0, 1, 0, 0, 0, 1, 0, 0, 1, 0, 1, 0, 0, 1, 0, 0, 1, 0, 0, 1,\n",
              "       0, 0, 0, 0, 1, 0, 0, 1, 0, 1, 0, 0, 1, 0, 0, 1, 0, 0, 0, 1, 0, 0,\n",
              "       1, 1, 0, 0, 0, 1, 0, 1, 0, 0, 1, 0, 0, 0, 1, 0, 0, 1, 0, 0, 0, 1,\n",
              "       0, 0, 1, 0, 0, 1, 0, 0, 1, 0, 1, 0, 0, 1, 0, 1, 0, 0, 0, 1, 0, 0,\n",
              "       1, 0, 1, 0, 0, 1, 0, 0, 0, 0, 1, 1, 0, 0, 0, 1, 0, 0, 1, 0, 1, 0,\n",
              "       0, 0, 0, 1, 0, 1, 0, 0, 0, 1, 0, 0, 1, 0, 1, 0, 0, 0, 1, 0, 1, 0,\n",
              "       1, 0, 0])"
            ]
          },
          "metadata": {},
          "execution_count": 42
        }
      ]
    },
    {
      "cell_type": "code",
      "source": [
        "y_test.ravel().shape"
      ],
      "metadata": {
        "colab": {
          "base_uri": "https://localhost:8080/"
        },
        "id": "NAwOlqOr4SrQ",
        "outputId": "d5da7aae-9485-4aae-b719-feac23ef6539"
      },
      "execution_count": 44,
      "outputs": [
        {
          "output_type": "execute_result",
          "data": {
            "text/plain": [
              "(135,)"
            ]
          },
          "metadata": {},
          "execution_count": 44
        }
      ]
    },
    {
      "cell_type": "code",
      "source": [
        "y_score.ravel()"
      ],
      "metadata": {
        "colab": {
          "base_uri": "https://localhost:8080/"
        },
        "id": "gXi-y9IT4OC9",
        "outputId": "eb03b69e-d913-4a1b-a7c3-12e51057fd12"
      },
      "execution_count": 43,
      "outputs": [
        {
          "output_type": "execute_result",
          "data": {
            "text/plain": [
              "array([-0.06716418, -0.59430941, -0.34806167, -0.07437102, -0.33968362,\n",
              "       -0.5824305 , -0.26915447, -0.73328342,  0.00473971, -0.30972595,\n",
              "       -0.7415946 ,  0.07040005, -0.25962102, -0.60290589, -0.15947504,\n",
              "        0.24411897, -0.66556548, -0.56898476,  0.06900163, -0.41821687,\n",
              "       -0.69089997,  0.58057777, -0.4768514 , -1.09272903, -1.00678848,\n",
              "        0.17946966, -0.17775566, -0.86437699, -0.41663281,  0.28385861,\n",
              "       -0.16490991, -0.63970555, -0.22126445, -0.22444769, -1.1826858 ,\n",
              "        0.33153254, -0.7850527 , -0.22437163,  0.0139686 , -0.78587716,\n",
              "       -0.54997382,  0.30371051, -0.59443053, -0.45189023,  0.07036144,\n",
              "        0.31832579, -0.42918204, -0.87309821, -0.34344294, -0.60131175,\n",
              "       -0.04082559, -0.44893082, -0.32960059, -0.26123584,  0.18453496,\n",
              "       -1.16156754, -0.0515057 , -0.17548084, -0.61833   , -0.20402617,\n",
              "       -0.19462619, -0.37128442, -0.42589582, -0.45531494, -0.11872929,\n",
              "       -0.42633434, -0.71039341, -0.71100917,  0.43510484, -0.65944195,\n",
              "       -0.26679557, -0.07203985, -0.41396543, -0.26310686, -0.34515105,\n",
              "       -0.35543332, -0.04759187, -0.58764731, -0.43182645, -1.0216539 ,\n",
              "        0.44179011,  0.28898936, -0.42625468, -0.85292966, -0.70772101,\n",
              "       -0.2782637 , -0.05542671, -0.19593484, -0.97811215,  0.16277008,\n",
              "       -0.01227889, -0.7015794 , -0.32319764,  0.09366503, -0.58075479,\n",
              "       -0.50355035, -0.78538173, -0.1472779 , -0.10567695,  0.00474074,\n",
              "        0.18562794, -1.20113157, -0.25257749, -0.4766981 , -0.2853448 ,\n",
              "       -0.43516654, -0.78549741,  0.17187659,  0.25029214, -0.49662674,\n",
              "       -0.73997522, -0.47398483, -0.61171677,  0.08278588, -0.31788941,\n",
              "       -0.59569894, -0.10868376, -0.93965036, -0.63730627,  0.56884541,\n",
              "       -0.87895665, -0.33623858,  0.22831573,  0.11309555, -0.88889957,\n",
              "       -0.21781656, -0.71854392, -0.755255  ,  0.4666796 , -0.3833968 ,\n",
              "       -0.12334437, -0.5234955 ,  0.42885161, -0.59604742, -0.86147713])"
            ]
          },
          "metadata": {},
          "execution_count": 43
        }
      ]
    },
    {
      "cell_type": "code",
      "source": [
        "y_score.ravel().shape"
      ],
      "metadata": {
        "colab": {
          "base_uri": "https://localhost:8080/"
        },
        "id": "rT_hdcsM4iRS",
        "outputId": "3106ac81-c136-469a-925a-9167da82ea5b"
      },
      "execution_count": 45,
      "outputs": [
        {
          "output_type": "execute_result",
          "data": {
            "text/plain": [
              "(135,)"
            ]
          },
          "metadata": {},
          "execution_count": 45
        }
      ]
    },
    {
      "cell_type": "code",
      "source": [
        "print(roc_auc[0])\n",
        "print(roc_auc[1])\n",
        "print(roc_auc[2])"
      ],
      "metadata": {
        "colab": {
          "base_uri": "https://localhost:8080/"
        },
        "id": "7kIRysvPbqWw",
        "outputId": "ac7ebcae-11e9-4e06-ebb8-0df68af87614"
      },
      "execution_count": 54,
      "outputs": [
        {
          "output_type": "stream",
          "name": "stdout",
          "text": [
            "0.9285714285714286\n",
            "0.3477366255144034\n",
            "0.7932692307692308\n"
          ]
        }
      ]
    },
    {
      "cell_type": "code",
      "source": [
        "roc_auc"
      ],
      "metadata": {
        "colab": {
          "base_uri": "https://localhost:8080/"
        },
        "id": "T5UIfNsv5QKi",
        "outputId": "98de37d2-6ccd-48ca-9feb-6ae8cc890ac0"
      },
      "execution_count": 55,
      "outputs": [
        {
          "output_type": "execute_result",
          "data": {
            "text/plain": [
              "{0: 0.9285714285714286,\n",
              " 1: 0.3477366255144034,\n",
              " 2: 0.7932692307692308,\n",
              " 'micro': 0.6619753086419753}"
            ]
          },
          "metadata": {},
          "execution_count": 55
        }
      ]
    },
    {
      "cell_type": "markdown",
      "source": [
        "<font color=\"orange\">**Plot of a ROC curve for a specific class**</font>"
      ],
      "metadata": {
        "id": "WfRFj3CntEuL"
      }
    },
    {
      "cell_type": "code",
      "source": [
        "plt.figure()\n",
        "lw = 2\n",
        "plt.plot(\n",
        "    fpr[0],\n",
        "    tpr[0],\n",
        "    color=\"darkorange\",\n",
        "    lw=lw,\n",
        "    label=\"ROC curve (area = %0.2f)\" % roc_auc[0],\n",
        ")\n",
        "plt.plot([0, 1], [0, 1], color=\"navy\", lw=lw, linestyle=\"--\")\n",
        "plt.xlim([0.0, 1.0])\n",
        "plt.ylim([0.0, 1.05])\n",
        "plt.xlabel(\"False Positive Rate\")\n",
        "plt.ylabel(\"True Positive Rate\")\n",
        "plt.title(\"Receiver operating characteristic example\")\n",
        "plt.legend(loc=\"lower right\")\n",
        "plt.show()"
      ],
      "metadata": {
        "colab": {
          "base_uri": "https://localhost:8080/",
          "height": 294
        },
        "id": "BXdAgo8zs2zr",
        "outputId": "f7e206ca-ae09-4685-dabe-e8d120d94c2b"
      },
      "execution_count": 56,
      "outputs": [
        {
          "output_type": "display_data",
          "data": {
            "image/png": "[encoded data removed]",
            "text/plain": [
              "<Figure size 432x288 with 1 Axes>"
            ]
          },
          "metadata": {
            "needs_background": "light"
          }
        }
      ]
    },
    {
      "cell_type": "code",
      "source": [
        "plt.figure()\n",
        "lw = 2\n",
        "plt.plot(\n",
        "    fpr[1],\n",
        "    tpr[1],\n",
        "    color=\"darkorange\",\n",
        "    lw=lw,\n",
        "    label=\"ROC curve (area = %0.2f)\" % roc_auc[1],\n",
        ")\n",
        "plt.plot([0, 1], [0, 1], color=\"navy\", lw=lw, linestyle=\"--\")\n",
        "plt.xlim([0.0, 1.0])\n",
        "plt.ylim([0.0, 1.05])\n",
        "plt.xlabel(\"False Positive Rate\")\n",
        "plt.ylabel(\"True Positive Rate\")\n",
        "plt.title(\"Receiver operating characteristic example\")\n",
        "plt.legend(loc=\"lower right\")\n",
        "plt.show()"
      ],
      "metadata": {
        "colab": {
          "base_uri": "https://localhost:8080/",
          "height": 294
        },
        "id": "RhMq1SSvciuj",
        "outputId": "d2e272d0-21bb-4ec7-b67a-abda7b2d2d8a"
      },
      "execution_count": 57,
      "outputs": [
        {
          "output_type": "display_data",
          "data": {
            "image/png": "[encoded data removed]",
            "text/plain": [
              "<Figure size 432x288 with 1 Axes>"
            ]
          },
          "metadata": {
            "needs_background": "light"
          }
        }
      ]
    },
    {
      "cell_type": "code",
      "source": [
        "plt.figure()\n",
        "lw = 2\n",
        "plt.plot(\n",
        "    fpr[2],\n",
        "    tpr[2],\n",
        "    color=\"darkorange\",\n",
        "    lw=lw,\n",
        "    label=\"ROC curve (area = %0.2f)\" % roc_auc[2],\n",
        ")\n",
        "plt.plot([0, 1], [0, 1], color=\"navy\", lw=lw, linestyle=\"--\")\n",
        "plt.xlim([0.0, 1.0])\n",
        "plt.ylim([0.0, 1.05])\n",
        "plt.xlabel(\"False Positive Rate\")\n",
        "plt.ylabel(\"True Positive Rate\")\n",
        "plt.title(\"Receiver operating characteristic example\")\n",
        "plt.legend(loc=\"lower right\")\n",
        "plt.show()"
      ],
      "metadata": {
        "id": "tWmG4jI-cqS5",
        "outputId": "8fc8aa2f-54bf-4087-da1c-08701a5342c2",
        "colab": {
          "base_uri": "https://localhost:8080/",
          "height": 294
        }
      },
      "execution_count": 58,
      "outputs": [
        {
          "output_type": "display_data",
          "data": {
            "image/png": "[encoded data removed]",
            "text/plain": [
              "<Figure size 432x288 with 1 Axes>"
            ]
          },
          "metadata": {
            "needs_background": "light"
          }
        }
      ]
    },
    {
      "cell_type": "code",
      "source": [
        "fpr[1].shape"
      ],
      "metadata": {
        "id": "e7lRS7zKtOUI",
        "colab": {
          "base_uri": "https://localhost:8080/"
        },
        "outputId": "00271179-f465-428e-ca78-9d252196b505"
      },
      "execution_count": null,
      "outputs": [
        {
          "output_type": "execute_result",
          "data": {
            "text/plain": [
              "(21,)"
            ]
          },
          "metadata": {},
          "execution_count": 29
        }
      ]
    },
    {
      "cell_type": "code",
      "source": [
        "fpr[2].shape"
      ],
      "metadata": {
        "colab": {
          "base_uri": "https://localhost:8080/"
        },
        "id": "wrwvt51kFRq7",
        "outputId": "f888fcac-7d20-4305-9402-e4b340bc40e7"
      },
      "execution_count": null,
      "outputs": [
        {
          "output_type": "execute_result",
          "data": {
            "text/plain": [
              "(18,)"
            ]
          },
          "metadata": {},
          "execution_count": 30
        }
      ]
    },
    {
      "cell_type": "code",
      "source": [
        "tpr[1].shape"
      ],
      "metadata": {
        "colab": {
          "base_uri": "https://localhost:8080/"
        },
        "id": "wYMhH7bUFYjx",
        "outputId": "615c37b7-0e2a-4579-bbff-62df252a0fea"
      },
      "execution_count": null,
      "outputs": [
        {
          "output_type": "execute_result",
          "data": {
            "text/plain": [
              "(21,)"
            ]
          },
          "metadata": {},
          "execution_count": 31
        }
      ]
    },
    {
      "cell_type": "code",
      "source": [
        "tpr[2].shape"
      ],
      "metadata": {
        "colab": {
          "base_uri": "https://localhost:8080/"
        },
        "id": "fd3CWhztFy_n",
        "outputId": "ad80d13f-0c43-4afd-8857-6dda11a56501"
      },
      "execution_count": null,
      "outputs": [
        {
          "output_type": "execute_result",
          "data": {
            "text/plain": [
              "(18,)"
            ]
          },
          "metadata": {},
          "execution_count": 33
        }
      ]
    }
  ]
}